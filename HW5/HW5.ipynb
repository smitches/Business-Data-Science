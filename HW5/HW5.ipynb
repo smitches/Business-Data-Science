{
  "nbformat": 4,
  "nbformat_minor": 0,
  "metadata": {
    "kernelspec": {
      "display_name": "Python 3",
      "language": "python",
      "name": "python3"
    },
    "language_info": {
      "codemirror_mode": {
        "name": "ipython",
        "version": 3
      },
      "file_extension": ".py",
      "mimetype": "text/x-python",
      "name": "python",
      "nbconvert_exporter": "python",
      "pygments_lexer": "ipython3",
      "version": "3.7.3"
    },
    "colab": {
      "name": "HW5.ipynb",
      "provenance": []
    }
  },
  "cells": [
    {
      "cell_type": "code",
      "metadata": {
        "id": "ItfBUuvYZVIE",
        "colab_type": "code",
        "colab": {}
      },
      "source": [
        "import numpy as np\n",
        "import pandas as pd\n",
        "from pandas import DataFrame\n",
        "import csv\n",
        "from sklearn.model_selection import train_test_split\n",
        "from sklearn.metrics import r2_score\n",
        "%matplotlib inline\n",
        "import matplotlib.pyplot as plt\n",
        "import seaborn as sns\n",
        "from statsmodels.formula.api import glm\n",
        "import statsmodels.api as sm"
      ],
      "execution_count": 0,
      "outputs": []
    },
    {
      "cell_type": "markdown",
      "metadata": {
        "id": "ap_dMKRJZC8c",
        "colab_type": "text"
      },
      "source": [
        "### Problem 1\n",
        "This problem walks us through a problem discussed in detail in the Multi-level regression book written by A. Gelman and J. Hill. NYC has a program known as stop-and-frisk. Relying on a 60’s era ruling, the law allows an officer to search someone without arrest, and without probable cause, if the officer believes s/he might be in danger because of a hidden weapon. Much has been written about this, as it has come under significant scrutiny for being discriminative and allowing (even encouraging) racial profiling. You can read a summary of it at this Wikipedia page: https://en.wikipedia.org/wiki/Stop-and-frisk_in_New_York_City.\n",
        "The data you will download contain information about the number of traffic stops, reported per precinct (75 total precincts), along with the ethnicity as reported by the police officer. These data have kept only three ethnicities: white, black and hispanic. The data set also has data on arrest rates in the previous year, broken down by four types of crimes; and the total population levels per precinct per ethnic group."
      ]
    },
    {
      "cell_type": "markdown",
      "metadata": {
        "id": "i9KoUGUiZC8e",
        "colab_type": "text"
      },
      "source": [
        "#### 1. Download and load the data in the file NYC stop and frisk.dat, uploaded to Canvas."
      ]
    },
    {
      "cell_type": "code",
      "metadata": {
        "id": "NOihzpQLZC8e",
        "colab_type": "code",
        "colab": {}
      },
      "source": [
        "infile = open('./NYC_stop_and_frisk.dat')\n",
        "df = pd.read_csv('./NYC_stop_and_frisk.dat', sep = ' ', skiprows = 5)\n",
        "df.rename(columns={'past.arrests':'pastarrests'}, inplace=True)\n",
        "ethnicity={1:'black',2:'hispanic',3:'white'}\n",
        "df['eth'].replace(ethnicity, inplace = True)\n",
        "crimes={1:'violent',2:'weapons',3:'property',4:'drug'}\n",
        "df.head()"
      ],
      "execution_count": 0,
      "outputs": []
    },
    {
      "cell_type": "markdown",
      "metadata": {
        "id": "kj2JZixYZC8h",
        "colab_type": "text"
      },
      "source": [
        "#### 2. What fraction of the total stops correspond to “white/back/hispanic”? What fraction of the population corresponds to “white/black/hispanic”?"
      ]
    },
    {
      "cell_type": "code",
      "metadata": {
        "id": "1NSwr_1nZC8i",
        "colab_type": "code",
        "colab": {}
      },
      "source": [
        "total_stops = df['stops'].sum()\n",
        "total_pop = df['pop'].sum()\n",
        "output_df = df.groupby('eth').sum()[['stops','pop']]\n",
        "output_df['stops'] = output_df['stops']/total_stops\n",
        "output_df['pop'] = output_df['pop']/total_pop\n",
        "output_df"
      ],
      "execution_count": 0,
      "outputs": []
    },
    {
      "cell_type": "markdown",
      "metadata": {
        "id": "Dcrohi0XZC8o",
        "colab_type": "text"
      },
      "source": [
        "#### 3. Use a Poisson regression to model the number of stops, controlling for ethnicity and using the number of past arrests as an exposure input."
      ]
    },
    {
      "cell_type": "code",
      "metadata": {
        "id": "M9iGhgmtZC8p",
        "colab_type": "code",
        "colab": {}
      },
      "source": [
        "df = df.join(pd.get_dummies(df['eth']))\n",
        "df['pastarrests'].replace(0,1, inplace=True)\n",
        "\n",
        "poisson_training_results = glm('stops ~ black + hispanic', exposure = df['pastarrests'],data = df, family = sm.families.Poisson()).fit()\n",
        "poisson_training_results.summary()"
      ],
      "execution_count": 0,
      "outputs": []
    },
    {
      "cell_type": "code",
      "metadata": {
        "id": "nXS_HOBFaHb3",
        "colab_type": "code",
        "colab": {}
      },
      "source": [
        "np.exp(poisson_training_results.params)"
      ],
      "execution_count": 0,
      "outputs": []
    },
    {
      "cell_type": "markdown",
      "metadata": {
        "id": "OLuQEkWoZC8t",
        "colab_type": "text"
      },
      "source": [
        "#### 4. According to the output of your model, what fraction fewer or more stops does each ethnicity have with respect to the others, in proportion to arrest rates of the previous year? Note that you can just pick a baseline ethnicity and just compare everything to that."
      ]
    },
    {
      "cell_type": "markdown",
      "metadata": {
        "id": "1irWM6FXZC8u",
        "colab_type": "text"
      },
      "source": [
        "According to the model, there are 17.54% more stops for black ethnicity and 26.09% more stops for hispanic ethnicity when compared to the baseline white ethnicity, in proportion to arrest rates of the previous year."
      ]
    },
    {
      "cell_type": "markdown",
      "metadata": {
        "id": "MwK5gzcKZC8y",
        "colab_type": "text"
      },
      "source": [
        "#### 5. Next, add the 75 precincts, and again solve the Poisson regression model."
      ]
    },
    {
      "cell_type": "code",
      "metadata": {
        "id": "pWbHvvUGZC8z",
        "colab_type": "code",
        "colab": {}
      },
      "source": [
        "pc_df = df.join(pd.get_dummies(df['precinct'], prefix = 'pc'))\n",
        "\n",
        "poisson_training_results = glm('stops ~ black + hispanic + '+' + '.join(pc_df.columns[9:]), \n",
        "                               exposure = pc_df['pastarrests'],data = pc_df, family = sm.families.Poisson()).fit()\n",
        "poisson_training_results.summary()"
      ],
      "execution_count": 0,
      "outputs": []
    },
    {
      "cell_type": "code",
      "metadata": {
        "id": "t7MBqfmiaTuQ",
        "colab_type": "code",
        "colab": {}
      },
      "source": [
        "np.exp(poisson_training_results.params)"
      ],
      "execution_count": 0,
      "outputs": []
    },
    {
      "cell_type": "markdown",
      "metadata": {
        "id": "0Ne6P2n6ZC86",
        "colab_type": "text"
      },
      "source": [
        "#### 6. Now, controlling for precincts, according to your model, what fraction fewer or more stops does each ethnicity have with respect to the others, in proportion to arrest rates of the previous year? (Again, just report with respect to a chosen ethnicity as a baseline)."
      ]
    },
    {
      "cell_type": "markdown",
      "metadata": {
        "id": "EDrTtW2EZC87",
        "colab_type": "text"
      },
      "source": [
        "Now after controlling for precincts, there is a 52.05% increase in stops for black ethnicity and 53.60% increase in stops for hispanic ethnicity compared to baseline white ethnicity in proportion to arrest rates of the previous year."
      ]
    },
    {
      "cell_type": "markdown",
      "metadata": {
        "id": "TXfN1lF7ZC89",
        "colab_type": "text"
      },
      "source": [
        "### Problem 2\n",
        "In this problem you will play with the idea of compound models. I have created a data set (entirely fake!)2 of 2012 salaries in the NBA, of 10,000 basketball players that were in high-school in 2011: nba cc fake data.csv. Note that the vast majority of the salaries are equal to 0 because the vast majority of these high-school players did not make it to the NBA and hence their NBA salary equals zero.\n",
        "There are three features you will use: height (in inches), average points scored during the last year in high school competition, and a scoring from 1-10 of the competitiveness of the league these players played in, with 10 being the most competitive.\n",
        "The goal is to build a model to predict the NBA salary of a high school baller."
      ]
    },
    {
      "cell_type": "code",
      "metadata": {
        "id": "v4HxhS2pZC8_",
        "colab_type": "code",
        "colab": {}
      },
      "source": [
        "df = pd.read_csv(\"nba_cc_fake_data.csv\", sep=',').drop(columns=['Unnamed: 0'])"
      ],
      "execution_count": 0,
      "outputs": []
    },
    {
      "cell_type": "code",
      "metadata": {
        "id": "T38GstDAZC9J",
        "colab_type": "code",
        "colab": {},
        "outputId": "3f57c618-f64a-4f43-aede-20bebe4d1473"
      },
      "source": [
        "df.head(10)"
      ],
      "execution_count": 0,
      "outputs": [
        {
          "output_type": "execute_result",
          "data": {
            "text/html": [
              "<div>\n",
              "<style scoped>\n",
              "    .dataframe tbody tr th:only-of-type {\n",
              "        vertical-align: middle;\n",
              "    }\n",
              "\n",
              "    .dataframe tbody tr th {\n",
              "        vertical-align: top;\n",
              "    }\n",
              "\n",
              "    .dataframe thead th {\n",
              "        text-align: right;\n",
              "    }\n",
              "</style>\n",
              "<table border=\"1\" class=\"dataframe\">\n",
              "  <thead>\n",
              "    <tr style=\"text-align: right;\">\n",
              "      <th></th>\n",
              "      <th>Comp</th>\n",
              "      <th>Height</th>\n",
              "      <th>Points</th>\n",
              "      <th>Salary</th>\n",
              "    </tr>\n",
              "  </thead>\n",
              "  <tbody>\n",
              "    <tr>\n",
              "      <th>0</th>\n",
              "      <td>9.0</td>\n",
              "      <td>76.0</td>\n",
              "      <td>27.0</td>\n",
              "      <td>0.0</td>\n",
              "    </tr>\n",
              "    <tr>\n",
              "      <th>1</th>\n",
              "      <td>7.0</td>\n",
              "      <td>78.0</td>\n",
              "      <td>39.0</td>\n",
              "      <td>0.0</td>\n",
              "    </tr>\n",
              "    <tr>\n",
              "      <th>2</th>\n",
              "      <td>9.0</td>\n",
              "      <td>76.0</td>\n",
              "      <td>39.0</td>\n",
              "      <td>0.0</td>\n",
              "    </tr>\n",
              "    <tr>\n",
              "      <th>3</th>\n",
              "      <td>9.0</td>\n",
              "      <td>74.0</td>\n",
              "      <td>39.0</td>\n",
              "      <td>0.0</td>\n",
              "    </tr>\n",
              "    <tr>\n",
              "      <th>4</th>\n",
              "      <td>9.0</td>\n",
              "      <td>74.0</td>\n",
              "      <td>26.0</td>\n",
              "      <td>0.0</td>\n",
              "    </tr>\n",
              "    <tr>\n",
              "      <th>5</th>\n",
              "      <td>8.0</td>\n",
              "      <td>75.0</td>\n",
              "      <td>46.0</td>\n",
              "      <td>0.0</td>\n",
              "    </tr>\n",
              "    <tr>\n",
              "      <th>6</th>\n",
              "      <td>8.0</td>\n",
              "      <td>78.0</td>\n",
              "      <td>35.0</td>\n",
              "      <td>0.0</td>\n",
              "    </tr>\n",
              "    <tr>\n",
              "      <th>7</th>\n",
              "      <td>7.0</td>\n",
              "      <td>75.0</td>\n",
              "      <td>56.0</td>\n",
              "      <td>0.0</td>\n",
              "    </tr>\n",
              "    <tr>\n",
              "      <th>8</th>\n",
              "      <td>9.0</td>\n",
              "      <td>77.0</td>\n",
              "      <td>37.0</td>\n",
              "      <td>0.0</td>\n",
              "    </tr>\n",
              "    <tr>\n",
              "      <th>9</th>\n",
              "      <td>9.0</td>\n",
              "      <td>78.0</td>\n",
              "      <td>63.0</td>\n",
              "      <td>496315.0</td>\n",
              "    </tr>\n",
              "  </tbody>\n",
              "</table>\n",
              "</div>"
            ],
            "text/plain": [
              "   Comp  Height  Points    Salary\n",
              "0   9.0    76.0    27.0       0.0\n",
              "1   7.0    78.0    39.0       0.0\n",
              "2   9.0    76.0    39.0       0.0\n",
              "3   9.0    74.0    39.0       0.0\n",
              "4   9.0    74.0    26.0       0.0\n",
              "5   8.0    75.0    46.0       0.0\n",
              "6   8.0    78.0    35.0       0.0\n",
              "7   7.0    75.0    56.0       0.0\n",
              "8   9.0    77.0    37.0       0.0\n",
              "9   9.0    78.0    63.0  496315.0"
            ]
          },
          "metadata": {
            "tags": []
          },
          "execution_count": 3
        }
      ]
    },
    {
      "cell_type": "code",
      "metadata": {
        "id": "5DEkBMphZC9N",
        "colab_type": "code",
        "colab": {}
      },
      "source": [
        "df_cat = df.copy()"
      ],
      "execution_count": 0,
      "outputs": []
    },
    {
      "cell_type": "code",
      "metadata": {
        "id": "lX7FeYw2ZC9P",
        "colab_type": "code",
        "colab": {},
        "outputId": "2978fcdc-a7d1-47f3-8a01-b33f67bab80f"
      },
      "source": [
        "df_cat.loc[df_cat['Salary']!=0.0,'Salary']= 1\n",
        "df_cat.head(10)"
      ],
      "execution_count": 0,
      "outputs": [
        {
          "output_type": "execute_result",
          "data": {
            "text/html": [
              "<div>\n",
              "<style scoped>\n",
              "    .dataframe tbody tr th:only-of-type {\n",
              "        vertical-align: middle;\n",
              "    }\n",
              "\n",
              "    .dataframe tbody tr th {\n",
              "        vertical-align: top;\n",
              "    }\n",
              "\n",
              "    .dataframe thead th {\n",
              "        text-align: right;\n",
              "    }\n",
              "</style>\n",
              "<table border=\"1\" class=\"dataframe\">\n",
              "  <thead>\n",
              "    <tr style=\"text-align: right;\">\n",
              "      <th></th>\n",
              "      <th>Comp</th>\n",
              "      <th>Height</th>\n",
              "      <th>Points</th>\n",
              "      <th>Salary</th>\n",
              "    </tr>\n",
              "  </thead>\n",
              "  <tbody>\n",
              "    <tr>\n",
              "      <th>0</th>\n",
              "      <td>9.0</td>\n",
              "      <td>76.0</td>\n",
              "      <td>27.0</td>\n",
              "      <td>0.0</td>\n",
              "    </tr>\n",
              "    <tr>\n",
              "      <th>1</th>\n",
              "      <td>7.0</td>\n",
              "      <td>78.0</td>\n",
              "      <td>39.0</td>\n",
              "      <td>0.0</td>\n",
              "    </tr>\n",
              "    <tr>\n",
              "      <th>2</th>\n",
              "      <td>9.0</td>\n",
              "      <td>76.0</td>\n",
              "      <td>39.0</td>\n",
              "      <td>0.0</td>\n",
              "    </tr>\n",
              "    <tr>\n",
              "      <th>3</th>\n",
              "      <td>9.0</td>\n",
              "      <td>74.0</td>\n",
              "      <td>39.0</td>\n",
              "      <td>0.0</td>\n",
              "    </tr>\n",
              "    <tr>\n",
              "      <th>4</th>\n",
              "      <td>9.0</td>\n",
              "      <td>74.0</td>\n",
              "      <td>26.0</td>\n",
              "      <td>0.0</td>\n",
              "    </tr>\n",
              "    <tr>\n",
              "      <th>5</th>\n",
              "      <td>8.0</td>\n",
              "      <td>75.0</td>\n",
              "      <td>46.0</td>\n",
              "      <td>0.0</td>\n",
              "    </tr>\n",
              "    <tr>\n",
              "      <th>6</th>\n",
              "      <td>8.0</td>\n",
              "      <td>78.0</td>\n",
              "      <td>35.0</td>\n",
              "      <td>0.0</td>\n",
              "    </tr>\n",
              "    <tr>\n",
              "      <th>7</th>\n",
              "      <td>7.0</td>\n",
              "      <td>75.0</td>\n",
              "      <td>56.0</td>\n",
              "      <td>0.0</td>\n",
              "    </tr>\n",
              "    <tr>\n",
              "      <th>8</th>\n",
              "      <td>9.0</td>\n",
              "      <td>77.0</td>\n",
              "      <td>37.0</td>\n",
              "      <td>0.0</td>\n",
              "    </tr>\n",
              "    <tr>\n",
              "      <th>9</th>\n",
              "      <td>9.0</td>\n",
              "      <td>78.0</td>\n",
              "      <td>63.0</td>\n",
              "      <td>1.0</td>\n",
              "    </tr>\n",
              "  </tbody>\n",
              "</table>\n",
              "</div>"
            ],
            "text/plain": [
              "   Comp  Height  Points  Salary\n",
              "0   9.0    76.0    27.0     0.0\n",
              "1   7.0    78.0    39.0     0.0\n",
              "2   9.0    76.0    39.0     0.0\n",
              "3   9.0    74.0    39.0     0.0\n",
              "4   9.0    74.0    26.0     0.0\n",
              "5   8.0    75.0    46.0     0.0\n",
              "6   8.0    78.0    35.0     0.0\n",
              "7   7.0    75.0    56.0     0.0\n",
              "8   9.0    77.0    37.0     0.0\n",
              "9   9.0    78.0    63.0     1.0"
            ]
          },
          "metadata": {
            "tags": []
          },
          "execution_count": 5
        }
      ]
    },
    {
      "cell_type": "markdown",
      "metadata": {
        "id": "Kki_7wsJZC9R",
        "colab_type": "text"
      },
      "source": [
        "#### 1. Explain why linear regression is not appropriate, given the nature of the data."
      ]
    },
    {
      "cell_type": "code",
      "metadata": {
        "id": "oSvw29JhZC9R",
        "colab_type": "code",
        "colab": {},
        "outputId": "1551940e-39ae-4477-a883-a03ce893120f"
      },
      "source": [
        "sns.pairplot(df)\n",
        "sns.despine()"
      ],
      "execution_count": 0,
      "outputs": [
        {
          "output_type": "display_data",
          "data": {
            "image/png": "[encoded data removed]",
            "text/plain": [
              "<Figure size 720x720 with 20 Axes>"
            ]
          },
          "metadata": {
            "tags": [],
            "needs_background": "light"
          }
        }
      ]
    },
    {
      "cell_type": "code",
      "metadata": {
        "id": "wdWDDFsdZC9V",
        "colab_type": "code",
        "colab": {},
        "outputId": "abe4871a-1e4d-4f71-8704-e0e6df29d900"
      },
      "source": [
        "plt.hist(df['Salary'])\n",
        "plt.show()"
      ],
      "execution_count": 0,
      "outputs": [
        {
          "output_type": "display_data",
          "data": {
            "image/png": "[encoded data removed]",
            "text/plain": [
              "<Figure size 432x288 with 1 Axes>"
            ]
          },
          "metadata": {
            "tags": [],
            "needs_background": "light"
          }
        }
      ]
    },
    {
      "cell_type": "markdown",
      "metadata": {
        "id": "Kc_JinLlZC9Z",
        "colab_type": "text"
      },
      "source": [
        "#### The linear regression is not appropriate because the distribution of the column \"Salary\" is so skewed. If we use linear regression to train the data, we would not get reasonable output."
      ]
    },
    {
      "cell_type": "markdown",
      "metadata": {
        "id": "0ghiAWcHZC9a",
        "colab_type": "text"
      },
      "source": [
        "#### 2. Try least squares regression, anyway. How well do you do?"
      ]
    },
    {
      "cell_type": "code",
      "metadata": {
        "id": "phQm1KW4ZC9c",
        "colab_type": "code",
        "colab": {}
      },
      "source": [
        "X = df_cat.iloc[:, :3].values\n",
        "y = df_cat.iloc[:, 3].values"
      ],
      "execution_count": 0,
      "outputs": []
    },
    {
      "cell_type": "code",
      "metadata": {
        "id": "Ah2viJv_ZC9f",
        "colab_type": "code",
        "colab": {}
      },
      "source": [
        "X_train, X_test, y_train, y_test = \\\n",
        "    train_test_split(X, y, test_size=0.2, random_state=0)"
      ],
      "execution_count": 0,
      "outputs": []
    },
    {
      "cell_type": "code",
      "metadata": {
        "id": "ZPIqOnXwZC9j",
        "colab_type": "code",
        "colab": {}
      },
      "source": [
        "from sklearn.preprocessing import StandardScaler\n",
        "sc = StandardScaler()\n",
        "X_train = sc.fit_transform(X_train)\n",
        "X_test = sc.transform(X_test)"
      ],
      "execution_count": 0,
      "outputs": []
    },
    {
      "cell_type": "code",
      "metadata": {
        "id": "3Gw_8R__ZC9n",
        "colab_type": "code",
        "colab": {}
      },
      "source": [
        "from sklearn.linear_model import LinearRegression\n",
        "OLS = LinearRegression()\n",
        "OLS.fit(X_train,y_train).predict(X_test)\n",
        "\n",
        "y_pred_OLS = OLS.fit(X_train, y_train).predict(X_test)\n",
        "r2_score_OLS = r2_score(y_test, y_pred_OLS)"
      ],
      "execution_count": 0,
      "outputs": []
    },
    {
      "cell_type": "code",
      "metadata": {
        "id": "u3x72kPCZC9w",
        "colab_type": "code",
        "colab": {},
        "outputId": "00ff8d89-d8a5-497e-a575-b91d11770d7d"
      },
      "source": [
        "print(\"R^2 on test data : %f\" % r2_score_OLS)"
      ],
      "execution_count": 0,
      "outputs": [
        {
          "output_type": "stream",
          "text": [
            "R^2 on test data : 0.173903\n"
          ],
          "name": "stdout"
        }
      ]
    },
    {
      "cell_type": "markdown",
      "metadata": {
        "id": "6StQHufwZC91",
        "colab_type": "text"
      },
      "source": [
        "#### 3. You will next build a composite model. You will first predict the probability that a player actually makes it to the NBA at all, and then you will build a model to predict the salary of a player, conditioned on the fact of making it to the NBA.\n",
        "\n",
        "– Build a model that predicts the probability of making it to the NBA.\n",
        "\n",
        "– Do a train-test split of 8000/2000 points, train your best model on the training set, and compute the AUC on the test set.\n",
        "\n",
        "– Now, build a model to predict the salary. Note that you may wish to consider a non-linear transformation of your data. What is your R2 score on the test set?"
      ]
    },
    {
      "cell_type": "code",
      "metadata": {
        "id": "ngOeQRy_ZC94",
        "colab_type": "code",
        "colab": {},
        "outputId": "e428a00f-40f0-495c-d3b9-8cd6ac82d2b9"
      },
      "source": [
        "from sklearn.linear_model import LogisticRegression, LogisticRegressionCV\n",
        "from sklearn.metrics import accuracy_score\n",
        "\n",
        "lr = LogisticRegression(C=10.0, random_state=0)\n",
        "lr.fit(X_train, y_train)"
      ],
      "execution_count": 0,
      "outputs": [
        {
          "output_type": "stream",
          "text": [
            "/Users/apple/miniconda3/lib/python3.7/site-packages/sklearn/linear_model/logistic.py:432: FutureWarning: Default solver will be changed to 'lbfgs' in 0.22. Specify a solver to silence this warning.\n",
            "  FutureWarning)\n"
          ],
          "name": "stderr"
        },
        {
          "output_type": "execute_result",
          "data": {
            "text/plain": [
              "LogisticRegression(C=10.0, class_weight=None, dual=False, fit_intercept=True,\n",
              "                   intercept_scaling=1, l1_ratio=None, max_iter=100,\n",
              "                   multi_class='warn', n_jobs=None, penalty='l2',\n",
              "                   random_state=0, solver='warn', tol=0.0001, verbose=0,\n",
              "                   warm_start=False)"
            ]
          },
          "metadata": {
            "tags": []
          },
          "execution_count": 14
        }
      ]
    },
    {
      "cell_type": "code",
      "metadata": {
        "id": "kcC3igWuZC-C",
        "colab_type": "code",
        "colab": {}
      },
      "source": [
        "y_pred = lr.predict(X_test)\n",
        "y_pred_prob = lr.predict_proba(X_test)"
      ],
      "execution_count": 0,
      "outputs": []
    },
    {
      "cell_type": "code",
      "metadata": {
        "id": "pC4sTt0IZC-D",
        "colab_type": "code",
        "colab": {},
        "outputId": "455ebd88-89ac-4d94-987d-47771fdfeeb8"
      },
      "source": [
        "print('Coefficient of are {} and offset/intercept is {}'.format(lr.coef_,lr.intercept_))"
      ],
      "execution_count": 0,
      "outputs": [
        {
          "output_type": "stream",
          "text": [
            "Coefficient of are [[1.86639911 1.08771237 1.95787718]] and offset/intercept is [-5.39539326]\n"
          ],
          "name": "stdout"
        }
      ]
    },
    {
      "cell_type": "code",
      "metadata": {
        "id": "5X0YAQH8ZC-F",
        "colab_type": "code",
        "colab": {},
        "outputId": "c938a18d-e843-475f-a13f-21ff4a63faa4"
      },
      "source": [
        "# AUC\n",
        "from sklearn import metrics\n",
        "test_auc = metrics.roc_auc_score(y_test,y_pred)\n",
        "print(test_auc)"
      ],
      "execution_count": 0,
      "outputs": [
        {
          "output_type": "stream",
          "text": [
            "0.6800432116417247\n"
          ],
          "name": "stdout"
        }
      ]
    },
    {
      "cell_type": "code",
      "metadata": {
        "id": "Rhf3YtmYZC-H",
        "colab_type": "code",
        "colab": {}
      },
      "source": [
        "#build model that predicts the salary\n",
        "df_salary = df.loc[df['Salary']!=0.0]"
      ],
      "execution_count": 0,
      "outputs": []
    },
    {
      "cell_type": "code",
      "metadata": {
        "id": "C42aa43dZC-O",
        "colab_type": "code",
        "colab": {},
        "outputId": "2457aba2-601d-45c0-cac3-84b3425210cf"
      },
      "source": [
        "df_salary.head()"
      ],
      "execution_count": 0,
      "outputs": [
        {
          "output_type": "execute_result",
          "data": {
            "text/html": [
              "<div>\n",
              "<style scoped>\n",
              "    .dataframe tbody tr th:only-of-type {\n",
              "        vertical-align: middle;\n",
              "    }\n",
              "\n",
              "    .dataframe tbody tr th {\n",
              "        vertical-align: top;\n",
              "    }\n",
              "\n",
              "    .dataframe thead th {\n",
              "        text-align: right;\n",
              "    }\n",
              "</style>\n",
              "<table border=\"1\" class=\"dataframe\">\n",
              "  <thead>\n",
              "    <tr style=\"text-align: right;\">\n",
              "      <th></th>\n",
              "      <th>Comp</th>\n",
              "      <th>Height</th>\n",
              "      <th>Points</th>\n",
              "      <th>Salary</th>\n",
              "    </tr>\n",
              "  </thead>\n",
              "  <tbody>\n",
              "    <tr>\n",
              "      <th>9</th>\n",
              "      <td>9.0</td>\n",
              "      <td>78.0</td>\n",
              "      <td>63.0</td>\n",
              "      <td>496315.0</td>\n",
              "    </tr>\n",
              "    <tr>\n",
              "      <th>27</th>\n",
              "      <td>10.0</td>\n",
              "      <td>76.0</td>\n",
              "      <td>52.0</td>\n",
              "      <td>741265.0</td>\n",
              "    </tr>\n",
              "    <tr>\n",
              "      <th>30</th>\n",
              "      <td>8.0</td>\n",
              "      <td>78.0</td>\n",
              "      <td>62.0</td>\n",
              "      <td>292281.0</td>\n",
              "    </tr>\n",
              "    <tr>\n",
              "      <th>115</th>\n",
              "      <td>10.0</td>\n",
              "      <td>77.0</td>\n",
              "      <td>63.0</td>\n",
              "      <td>782210.0</td>\n",
              "    </tr>\n",
              "    <tr>\n",
              "      <th>117</th>\n",
              "      <td>8.0</td>\n",
              "      <td>76.0</td>\n",
              "      <td>50.0</td>\n",
              "      <td>259365.0</td>\n",
              "    </tr>\n",
              "  </tbody>\n",
              "</table>\n",
              "</div>"
            ],
            "text/plain": [
              "     Comp  Height  Points    Salary\n",
              "9     9.0    78.0    63.0  496315.0\n",
              "27   10.0    76.0    52.0  741265.0\n",
              "30    8.0    78.0    62.0  292281.0\n",
              "115  10.0    77.0    63.0  782210.0\n",
              "117   8.0    76.0    50.0  259365.0"
            ]
          },
          "metadata": {
            "tags": []
          },
          "execution_count": 25
        }
      ]
    },
    {
      "cell_type": "code",
      "metadata": {
        "id": "wmYbxGivZC-R",
        "colab_type": "code",
        "colab": {},
        "outputId": "8fb77c2d-fe91-4400-f6ea-b20d6007b2cc"
      },
      "source": [
        "df_salary_log = np.log(df_salary)\n",
        "df_salary_log.head()"
      ],
      "execution_count": 0,
      "outputs": [
        {
          "output_type": "execute_result",
          "data": {
            "text/html": [
              "<div>\n",
              "<style scoped>\n",
              "    .dataframe tbody tr th:only-of-type {\n",
              "        vertical-align: middle;\n",
              "    }\n",
              "\n",
              "    .dataframe tbody tr th {\n",
              "        vertical-align: top;\n",
              "    }\n",
              "\n",
              "    .dataframe thead th {\n",
              "        text-align: right;\n",
              "    }\n",
              "</style>\n",
              "<table border=\"1\" class=\"dataframe\">\n",
              "  <thead>\n",
              "    <tr style=\"text-align: right;\">\n",
              "      <th></th>\n",
              "      <th>Comp</th>\n",
              "      <th>Height</th>\n",
              "      <th>Points</th>\n",
              "      <th>Salary</th>\n",
              "    </tr>\n",
              "  </thead>\n",
              "  <tbody>\n",
              "    <tr>\n",
              "      <th>9</th>\n",
              "      <td>2.197225</td>\n",
              "      <td>4.356709</td>\n",
              "      <td>4.143135</td>\n",
              "      <td>13.114966</td>\n",
              "    </tr>\n",
              "    <tr>\n",
              "      <th>27</th>\n",
              "      <td>2.302585</td>\n",
              "      <td>4.330733</td>\n",
              "      <td>3.951244</td>\n",
              "      <td>13.516113</td>\n",
              "    </tr>\n",
              "    <tr>\n",
              "      <th>30</th>\n",
              "      <td>2.079442</td>\n",
              "      <td>4.356709</td>\n",
              "      <td>4.127134</td>\n",
              "      <td>12.585471</td>\n",
              "    </tr>\n",
              "    <tr>\n",
              "      <th>115</th>\n",
              "      <td>2.302585</td>\n",
              "      <td>4.343805</td>\n",
              "      <td>4.143135</td>\n",
              "      <td>13.569879</td>\n",
              "    </tr>\n",
              "    <tr>\n",
              "      <th>117</th>\n",
              "      <td>2.079442</td>\n",
              "      <td>4.330733</td>\n",
              "      <td>3.912023</td>\n",
              "      <td>12.465992</td>\n",
              "    </tr>\n",
              "  </tbody>\n",
              "</table>\n",
              "</div>"
            ],
            "text/plain": [
              "         Comp    Height    Points     Salary\n",
              "9    2.197225  4.356709  4.143135  13.114966\n",
              "27   2.302585  4.330733  3.951244  13.516113\n",
              "30   2.079442  4.356709  4.127134  12.585471\n",
              "115  2.302585  4.343805  4.143135  13.569879\n",
              "117  2.079442  4.330733  3.912023  12.465992"
            ]
          },
          "metadata": {
            "tags": []
          },
          "execution_count": 26
        }
      ]
    },
    {
      "cell_type": "code",
      "metadata": {
        "id": "aLTExChjZC-T",
        "colab_type": "code",
        "colab": {}
      },
      "source": [
        "X_sal = df_salary_log.iloc[:, :3].values\n",
        "y_sal = df_salary_log.iloc[:, 3].values"
      ],
      "execution_count": 0,
      "outputs": []
    },
    {
      "cell_type": "code",
      "metadata": {
        "id": "YIymwNWdZC-U",
        "colab_type": "code",
        "colab": {}
      },
      "source": [
        "X_sal_train, X_sal_test, y_sal_train, y_sal_test = \\\n",
        "    train_test_split(X_sal, y_sal, test_size=0.2, random_state=0)"
      ],
      "execution_count": 0,
      "outputs": []
    },
    {
      "cell_type": "code",
      "metadata": {
        "id": "7kPGF0IqZC-W",
        "colab_type": "code",
        "colab": {}
      },
      "source": [
        "from sklearn.preprocessing import StandardScaler\n",
        "sc = StandardScaler()\n",
        "X_sal_train = sc.fit_transform(X_sal_train)\n",
        "X_sal_test = sc.transform(X_sal_test)"
      ],
      "execution_count": 0,
      "outputs": []
    },
    {
      "cell_type": "code",
      "metadata": {
        "id": "JTnYUuWWZC-Y",
        "colab_type": "code",
        "colab": {},
        "outputId": "84a9fe15-c39a-4d7b-bebe-5c057307463d"
      },
      "source": [
        "from sklearn.linear_model import LinearRegression\n",
        "OLS = LinearRegression()\n",
        "y_pred_salary = OLS.fit(X_sal_train,y_sal_train).predict(X_sal_test)\n",
        "r2_score_salary = r2_score(y_sal_test, y_pred_salary)\n",
        "print(\"R^2 on test data : %f\" % r2_score_salary)"
      ],
      "execution_count": 0,
      "outputs": [
        {
          "output_type": "stream",
          "text": [
            "R^2 on test data : 0.684083\n"
          ],
          "name": "stdout"
        }
      ]
    },
    {
      "cell_type": "markdown",
      "metadata": {
        "id": "p7spxy-hZC-e",
        "colab_type": "text"
      },
      "source": [
        "#### 4. Compute the expected NBA salary of a high school basketball player who is 6’ 6” tall, is averaging 46 points per game, and is playing in the second most competitive league (comp = 9), according to your model."
      ]
    },
    {
      "cell_type": "code",
      "metadata": {
        "id": "Q3XVpKpTZC-f",
        "colab_type": "code",
        "colab": {}
      },
      "source": [
        "data={'Comp_data':['9'], 'Height_data':['78'], 'Points_data':['46']}\n",
        "df_data = DataFrame(data)"
      ],
      "execution_count": 0,
      "outputs": []
    },
    {
      "cell_type": "code",
      "metadata": {
        "id": "KZRPaACbZC-h",
        "colab_type": "code",
        "colab": {}
      },
      "source": [
        "X_data = df_data.iloc[:, :3].values"
      ],
      "execution_count": 0,
      "outputs": []
    },
    {
      "cell_type": "code",
      "metadata": {
        "id": "aO64NqVDZC-j",
        "colab_type": "code",
        "colab": {}
      },
      "source": [
        "X_sc_data = sc.fit_transform(X_data)"
      ],
      "execution_count": 0,
      "outputs": []
    },
    {
      "cell_type": "code",
      "metadata": {
        "id": "tc_J7c01ZC-k",
        "colab_type": "code",
        "colab": {},
        "outputId": "e813fda6-9efb-48e7-ee2e-2f5fef25b65d"
      },
      "source": [
        "y_pred_nba= lr.predict_proba(X_sc_data)\n",
        "print(y_pred_nba)"
      ],
      "execution_count": 0,
      "outputs": [
        {
          "output_type": "stream",
          "text": [
            "[[0.99548306 0.00451694]]\n"
          ],
          "name": "stdout"
        }
      ]
    },
    {
      "cell_type": "markdown",
      "metadata": {
        "id": "nGCGWPUdZC-n",
        "colab_type": "text"
      },
      "source": [
        "#### From our model, we can see this basketball player probably would not get into NBA."
      ]
    },
    {
      "cell_type": "code",
      "metadata": {
        "id": "C2rU8HJ6ZC-o",
        "colab_type": "code",
        "colab": {}
      },
      "source": [
        "y_pred_salary = OLS.fit(X_sal_train,y_sal_train).predict(X_sc_data)"
      ],
      "execution_count": 0,
      "outputs": []
    },
    {
      "cell_type": "code",
      "metadata": {
        "id": "CP3ze7rvZC-q",
        "colab_type": "code",
        "colab": {},
        "outputId": "722b4a13-9552-4eae-ad43-1ddde8576f6e"
      },
      "source": [
        "import math\n",
        "y_pred_salary_final = math.exp(y_pred_salary)\n",
        "print(\"Though he probably would not get into NBA, the predicted Salary is : %f\" % y_pred_salary_final)"
      ],
      "execution_count": 0,
      "outputs": [
        {
          "output_type": "stream",
          "text": [
            "Though he probably would not get into NBA, the predicted Salary is : 565268.589421\n"
          ],
          "name": "stdout"
        }
      ]
    }
  ]
}