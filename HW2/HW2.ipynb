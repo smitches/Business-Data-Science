{
 "cells": [
  {
   "cell_type": "markdown",
   "metadata": {},
   "source": [
    "## 1. Correlations.\n",
    "- When given a data matrix, an easy way to tell if any two columns are correlated is to\n",
    "look at a scatter plot of each column against each other column. For a warm up, do this:\n",
    "Look at the data in DF1 in HW2 Data.zip. Which columns are (pairwise) correlated?\n",
    "Figure out how to do this with Pandas, and also how to do this with Seaborn.\n",
    "- Compute the covariance matrix of the data. Write the explicit expression for what this\n",
    "is, and then use any command you like (e.g., np.cov) to compute the 4 × 4 matrix.\n",
    "Explain why the numbers that you get fit with the plots you got.\n",
    "- The above problem in reverse. Generate a zero-mean multivariate Gaussian random\n",
    "variable in 3 dimensions, Z = (X1, X2, X3) so that (X1, X2) and (X1, X3) are uncorrelated, but (X2, X3) are correlated. Specifically: choose a covariance matrix that has the\n",
    "above correlations structure, and write this down. Then find a way to generate samples\n",
    "from this Gaussian. Choose one of the non-zero covariance terms (Cij , if C denotes\n",
    "your covariance matrix) and plot it vs the estimated covariance term, as the number of\n",
    "samples you use scales. The goal is to get a visual representation of how the empirical\n",
    "covariance converges to the true (or family) covariance."
   ]
  },
  {
   "cell_type": "markdown",
   "metadata": {},
   "source": [
    "## 2. Outliers – Optional. \n",
    "Consider the two-dimensional data in DF2 in Lab2 Data.zip. Look at\n",
    "a scatter plot of the data. It contains two points that look like potential outliers. Which one\n",
    "is “more” outlying? Propose a transformation of the data that makes it clear that the point\n",
    "at (−1, 1) is more outlying than the point at (5.5, 5), even though the latter point is“farther\n",
    "away” from the nearest points. Plot the data again after performing this transformation.\n",
    "Provide discussion as appropriate to justify your choice of transformation. Hint: if y comes\n",
    "from a standard Gaussian in two dimensions (i.e., with covariance equal to the two by two\n",
    "identity matrix), and $Q = \\left\\lgroup\\matrix{2&1/2\\cr1/2&2}\\right\\rgroup$ what is the covariance matrix of the random variable z = Qy? If you are given z, how would you create a random Gaussian vector with covariance equal to the identity, using z?"
   ]
  },
  {
   "cell_type": "markdown",
   "metadata": {},
   "source": [
    "## 3. Even More Standard Error \n",
    "(You may want to first look at the last written exercise below).\n",
    "In one of the written exercises below, you derive an expression for what is called the Standard\n",
    "1\n",
    "Error: where β denotes the “truth,” βˆ denotes the value we compute using least squares\n",
    "linear regression, and Z and e are as in the exercise below, you find: $\\hat{β} − β = Ze$\n",
    "\n",
    "If we know the distribution of the noise (the distribution generating the noise vectors, ei),\n",
    "then we know the distribution for the error, $(\\hat{β} − β)$. This allows us to answer the question\n",
    "given in class: if we solve a regression and obtain value $\\hat{β}$, how can we tell if it is statistically\n",
    "significant? The answer is: we compare the size of βˆ to the spread introduced by the noise\n",
    "(i.e., the standard error), and we ask: what is the likelihood that the true β = 0, and what\n",
    "we observed was purely due to the noise.\n",
    "\n",
    "If the noise is Gaussian (normal), i.e., ei ∼ N(0, σ2\n",
    "), and if the values of the xi are normalized,\n",
    "then we expect error of the size σ/√\n",
    "n, as this is roughly the standard deviation of the\n",
    "expression for the error that you derive above. This means: if you have twice the data points,\n",
    "you should expect the error to be reduced by about 1.4 (the formula says that the standard\n",
    "deviation of the error would decrease by a factor of $1/\\sqrt{2}$.\n",
    "\n",
    "Compute this empirically, as follows: We will generate data for a regression problem, solve\n",
    "it, and see what the error is: Generate data as I did in the example from class: $xi ∼ N(0, 1)$,\n",
    "$ei ∼ N(0, 1)$. Generate y by $yi = β0 + xiβ + ei$\n",
    ", where β0 = −3 and β = 0. Note that since β = 0, this means that y and x are unrelated! The question we are exploring here is as\n",
    "follows: when we solve a regression problem, we are not going to find $\\hat{β} = 0$ – we will find\n",
    "that $\\hat{β}$ takes some other values, hopefully close to zero. How do we know if the value of $\\hat{β}$ we\n",
    "get is statistically meaningful?\n",
    "\n",
    "- By creating fresh data and each time computing βˆ and recording βˆ − β, compute the\n",
    "empirical standard deviation of the error for n = 150 (the number we used in class). In\n",
    "class, in the exercise where I tried to find a linear regression of y vs. noise, we found\n",
    "βˆ = −0.15. Given your empirical computation of the standard deviation of the error,\n",
    "how significant is the value −0.15?\n",
    "- Now repeat the above experiment for different values of n. Plot these values, and on the\n",
    "same plot, plot $1/\\sqrt{n}$. How is the fit?\n"
   ]
  },
  {
   "cell_type": "markdown",
   "metadata": {},
   "source": [
    "## 4. Names and Frequencies. \n",
    "The goal of this exercise is for you to get more experience with\n",
    "Pandas, and to get a chance to explore a cool data set. Download the file Names.zip from\n",
    "Canvas. This contains the frequency of all names that appeared more than 5 times on a social\n",
    "security application from 1880 through 2015.\n",
    "- Write a program that on input k and XXXX, returns the top k names from year\n",
    "XXXX.\n",
    "- Write a program that on input Name returns the frequency for men and women of the\n",
    "name Name.\n",
    "- It could be that names are more diverse now than they were in 1880, so that a name may\n",
    "be relatively the most popular, though its frequency may have been decreasing over the\n",
    "years. Modify the above to return the relative frequency. Note that in the next coming\n",
    "lectures we will learn how to quantify diversity using entropy.\n",
    "- Find all the names that used to be more popular for one gender, but then became more\n",
    "popular for another gender."
   ]
  },
  {
   "cell_type": "markdown",
   "metadata": {},
   "source": [
    "## 5. Regression and Interaction Terms. \n",
    "Run through the Jupyter Notebook from Thursday’s\n",
    "class. You will have to download the data set yourselves. Then do the exercise of adding an\n",
    "interaction term. Explain what you see, and how it relates to the graph you obtain before\n",
    "adding the interaction term. That is, use plots / visualization, to argue convincingly that the\n",
    "interaction term should or shouldn’t be there, and then tell us what this means."
   ]
  }
 ],
 "metadata": {
  "kernelspec": {
   "display_name": "Python 3",
   "language": "python",
   "name": "python3"
  },
  "language_info": {
   "codemirror_mode": {
    "name": "ipython",
    "version": 3
   },
   "file_extension": ".py",
   "mimetype": "text/x-python",
   "name": "python",
   "nbconvert_exporter": "python",
   "pygments_lexer": "ipython3",
   "version": "3.7.3"
  }
 },
 "nbformat": 4,
 "nbformat_minor": 2
}
