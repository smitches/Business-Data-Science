{
 "cells": [
  {
   "cell_type": "markdown",
   "metadata": {},
   "source": [
    "# Homework 1\n",
    "- Kai-Ju (Carolyn) Yu\n",
    "- Brian Smith-Eitches"
   ]
  },
  {
   "cell_type": "markdown",
   "metadata": {},
   "source": [
    "# Programming Questions"
   ]
  },
  {
   "cell_type": "code",
   "execution_count": 1,
   "metadata": {
    "colab": {},
    "colab_type": "code",
    "id": "ZRcwVc46R37A"
   },
   "outputs": [],
   "source": [
    "import pandas as pd\n",
    "import numpy as np\n",
    "import matplotlib.pyplot as plt\n",
    "from math import sqrt\n",
    "from scipy import stats"
   ]
  },
  {
   "cell_type": "markdown",
   "metadata": {
    "colab_type": "text",
    "id": "fxXaFHrOR37N"
   },
   "source": [
    "### **1. Create 1000 samples from a Gaussian distribution with mean -10 and standard deviation 5. Create another 1000 samples from another independent Gaussian with mean 10 and standard deviation 5.**\n",
    "**(a) Take the sum of 2 these Gaussians by adding the two sets of 1000 points, point by point, and plot the histogram of the resulting 1000 points. What do you observe?**\n",
    "\n",
    "We observe that there is a relatively normal distribution where the mean appears to be the sum of the two means (-20) and the distribution is wider meaning the standard deviation increased (by a factor of $\\sqrt{2}$)"
   ]
  },
  {
   "cell_type": "code",
   "execution_count": 2,
   "metadata": {
    "colab": {},
    "colab_type": "code",
    "id": "sORdOOqRR37O"
   },
   "outputs": [],
   "source": [
    "mu = -10\n",
    "sigma = 5\n",
    "sample1 = np.random.normal(mu, sigma, 1000)\n",
    "sample2 = np.random.normal(mu, sigma, 1000)\n",
    "sample_sum = sample1 + sample2"
   ]
  },
  {
   "cell_type": "code",
   "execution_count": 3,
   "metadata": {
    "colab": {
     "base_uri": "https://localhost:8080/",
     "height": 357
    },
    "colab_type": "code",
    "id": "9TqduaSWR37c",
    "outputId": "2cab30a8-fa96-44ab-8022-a4e2530c8672"
   },
   "outputs": [
    {
     "data": {
      "text/plain": [
       "(array([  8.,  20.,  71., 156., 221., 220., 169.,  93.,  32.,  10.]),\n",
       " array([-41.91395475, -37.6547643 , -33.39557384, -29.13638339,\n",
       "        -24.87719294, -20.61800249, -16.35881203, -12.09962158,\n",
       "         -7.84043113,  -3.58124067,   0.67794978]),\n",
       " <a list of 10 Patch objects>)"
      ]
     },
     "execution_count": 3,
     "metadata": {},
     "output_type": "execute_result"
    },
    {
     "data": {
      "image/png": "[encoded data removed]",
      "text/plain": [
       "<Figure size 432x288 with 1 Axes>"
      ]
     },
     "metadata": {
      "needs_background": "light"
     },
     "output_type": "display_data"
    }
   ],
   "source": [
    "plt.hist(sample_sum)"
   ]
  },
  {
   "cell_type": "markdown",
   "metadata": {},
   "source": [
    "**(b) Estimate the mean and the variance of the sum.**"
   ]
  },
  {
   "cell_type": "code",
   "execution_count": 4,
   "metadata": {
    "colab": {
     "base_uri": "https://localhost:8080/",
     "height": 35
    },
    "colab_type": "code",
    "id": "252VqInIR37p",
    "outputId": "0984f19b-3aa9-46a6-f88a-e91d7cc7095d"
   },
   "outputs": [
    {
     "data": {
      "text/plain": [
       "-20.14913673166032"
      ]
     },
     "execution_count": 4,
     "metadata": {},
     "output_type": "execute_result"
    }
   ],
   "source": [
    "sample_sum.mean()"
   ]
  },
  {
   "cell_type": "code",
   "execution_count": 5,
   "metadata": {
    "colab": {
     "base_uri": "https://localhost:8080/",
     "height": 35
    },
    "colab_type": "code",
    "id": "EepRPX9_R37u",
    "outputId": "cc7c1b69-469b-466d-fd01-0ccb5f4d47b2"
   },
   "outputs": [
    {
     "data": {
      "text/plain": [
       "50.68330543490104"
      ]
     },
     "execution_count": 5,
     "metadata": {},
     "output_type": "execute_result"
    }
   ],
   "source": [
    "sample_sum.var()"
   ]
  },
  {
   "cell_type": "code",
   "execution_count": 6,
   "metadata": {},
   "outputs": [
    {
     "name": "stdout",
     "output_type": "stream",
     "text": [
      "Mean estimate is\t -20.14913673166032\n",
      "Variance estimate is\t  50.683305434900994\n"
     ]
    }
   ],
   "source": [
    "mean = np.sum(sample_sum) / np.size(sample_sum)\n",
    "variance = sum([(x - mean) ** 2 for x in sample_sum]) / (len(sample_sum))\n",
    "print('Mean estimate is\\t {}\\nVariance estimate is\\t  {}'.format(mean, variance))"
   ]
  },
  {
   "cell_type": "markdown",
   "metadata": {
    "colab_type": "text",
    "id": "O9Wfsv-8R38M"
   },
   "source": [
    "### 2. Central Limit Theorem Let $X_i$ be an [iid](https://en.wikipedia.org/wiki/Independent_and_identically_distributed_random_variables) Bernoulli random variable with value {-1,1}. Look at the random variable $Z_n = \\frac{1}{\\sqrt{n}}\\sum X_{i}$ \n",
    "#### By taking 1000 draws from $Z_n$, plot its histogram. Check that for small $n$ (say, 5-10) $Z_n$ does not look that much like a Gaussian, but when $n$ is bigger (already by the time $n$ = 30 or 50) it looks much more like a Gaussian. Check also for much bigger $n$: $n$ = 250, to see that at this point, one can really see the bell curve"
   ]
  },
  {
   "cell_type": "code",
   "execution_count": 7,
   "metadata": {
    "colab": {},
    "colab_type": "code",
    "id": "vqN3tKnMR38O"
   },
   "outputs": [],
   "source": [
    "def getSumXi(n): return sum(np.random.choice((-1,1),n))\n",
    "def getZn(n): return (1/(sqrt(n)) * getSumXi(n))\n",
    "def getZnArray(n):\n",
    "    values = []\n",
    "    for i in range(1000):\n",
    "        values.append(getZn(n))\n",
    "    return np.array(values)"
   ]
  },
  {
   "cell_type": "code",
   "execution_count": 8,
   "metadata": {
    "colab": {
     "base_uri": "https://localhost:8080/",
     "height": 357
    },
    "colab_type": "code",
    "id": "2iQqkJJxR38c",
    "outputId": "3a9a47bd-9a9f-44f8-d092-ca0916540220"
   },
   "outputs": [
    {
     "data": {
      "text/plain": [
       "(array([ 28.,   0., 150., 336.,   0., 326.,   0., 142.,   0.,  18.]),\n",
       " array([-2.23606798, -1.78885438, -1.34164079, -0.89442719, -0.4472136 ,\n",
       "         0.        ,  0.4472136 ,  0.89442719,  1.34164079,  1.78885438,\n",
       "         2.23606798]),\n",
       " <a list of 10 Patch objects>)"
      ]
     },
     "execution_count": 8,
     "metadata": {},
     "output_type": "execute_result"
    },
    {
     "data": {
      "image/png": "[encoded data removed]",
      "text/plain": [
       "<Figure size 432x288 with 1 Axes>"
      ]
     },
     "metadata": {
      "needs_background": "light"
     },
     "output_type": "display_data"
    }
   ],
   "source": [
    "values = getZnArray(5)\n",
    "plt.hist(values)"
   ]
  },
  {
   "cell_type": "code",
   "execution_count": 9,
   "metadata": {
    "colab": {
     "base_uri": "https://localhost:8080/",
     "height": 357
    },
    "colab_type": "code",
    "id": "2iQqkJJxR38c",
    "outputId": "3a9a47bd-9a9f-44f8-d092-ca0916540220"
   },
   "outputs": [
    {
     "data": {
      "text/plain": [
       "(array([ 16.,  51., 120., 100., 292., 216.,  88.,  92.,  20.,   5.]),\n",
       " array([-2.92118697, -2.30043474, -1.67968251, -1.05893028, -0.43817805,\n",
       "         0.18257419,  0.80332642,  1.42407865,  2.04483088,  2.66558311,\n",
       "         3.28633535]),\n",
       " <a list of 10 Patch objects>)"
      ]
     },
     "execution_count": 9,
     "metadata": {},
     "output_type": "execute_result"
    },
    {
     "data": {
      "image/png": "[encoded data removed]",
      "text/plain": [
       "<Figure size 432x288 with 1 Axes>"
      ]
     },
     "metadata": {
      "needs_background": "light"
     },
     "output_type": "display_data"
    }
   ],
   "source": [
    "values = getZnArray(30)\n",
    "plt.hist(values)"
   ]
  },
  {
   "cell_type": "code",
   "execution_count": 10,
   "metadata": {
    "colab": {
     "base_uri": "https://localhost:8080/",
     "height": 357
    },
    "colab_type": "code",
    "id": "2iQqkJJxR38c",
    "outputId": "3a9a47bd-9a9f-44f8-d092-ca0916540220"
   },
   "outputs": [
    {
     "data": {
      "text/plain": [
       "(array([  3.,   6.,  41., 110., 271., 234., 161., 134.,  32.,   8.]),\n",
       " array([-3.67695526, -2.99813275, -2.31931024, -1.64048773, -0.96166522,\n",
       "        -0.28284271,  0.3959798 ,  1.07480231,  1.75362482,  2.43244733,\n",
       "         3.11126984]),\n",
       " <a list of 10 Patch objects>)"
      ]
     },
     "execution_count": 10,
     "metadata": {},
     "output_type": "execute_result"
    },
    {
     "data": {
      "image/png": "[encoded data removed]",
      "text/plain": [
       "<Figure size 432x288 with 1 Axes>"
      ]
     },
     "metadata": {
      "needs_background": "light"
     },
     "output_type": "display_data"
    }
   ],
   "source": [
    "values = getZnArray(50)\n",
    "plt.hist(values)"
   ]
  },
  {
   "cell_type": "code",
   "execution_count": 11,
   "metadata": {
    "colab": {
     "base_uri": "https://localhost:8080/",
     "height": 357
    },
    "colab_type": "code",
    "id": "2iQqkJJxR38c",
    "outputId": "3a9a47bd-9a9f-44f8-d092-ca0916540220"
   },
   "outputs": [
    {
     "data": {
      "text/plain": [
       "(array([  7.,  19.,  86., 214., 238., 230., 148.,  45.,   9.,   4.]),\n",
       " array([-3.16227766, -2.4918748 , -1.82147193, -1.15106907, -0.4806662 ,\n",
       "         0.18973666,  0.86013952,  1.53054239,  2.20094525,  2.87134812,\n",
       "         3.54175098]),\n",
       " <a list of 10 Patch objects>)"
      ]
     },
     "execution_count": 11,
     "metadata": {},
     "output_type": "execute_result"
    },
    {
     "data": {
      "image/png": "[encoded data removed]",
      "text/plain": [
       "<Figure size 432x288 with 1 Axes>"
      ]
     },
     "metadata": {
      "needs_background": "light"
     },
     "output_type": "display_data"
    }
   ],
   "source": [
    "values = getZnArray(250)\n",
    "plt.hist(values)"
   ]
  },
  {
   "cell_type": "markdown",
   "metadata": {
    "colab_type": "text",
    "id": "5TQuU2xTSMcl"
   },
   "source": [
    "### 3. Estimate the mean and standard deviation from 1 dimensional data: generate 25,000 samples from a Gaussian distribution with mean 0 and standard deviation 5. Then estimate the mean and standard deviation of this gaussian using elementary numpy commands, i.e., addition,multiplication, division (do not use a command that takes data and returns the mean or standard deviation)."
   ]
  },
  {
   "cell_type": "code",
   "execution_count": 12,
   "metadata": {
    "colab": {},
    "colab_type": "code",
    "id": "N3iBVVvFSCMm"
   },
   "outputs": [],
   "source": [
    "mu = 0\n",
    "sigma = 5\n",
    "sample = np.random.normal(mu, sigma, 25000)"
   ]
  },
  {
   "cell_type": "code",
   "execution_count": 13,
   "metadata": {
    "colab": {
     "base_uri": "https://localhost:8080/",
     "height": 34
    },
    "colab_type": "code",
    "id": "yLVfwI0APYLD",
    "outputId": "6ad81b57-1113-49e6-a3cb-540baa2d19a4"
   },
   "outputs": [
    {
     "name": "stdout",
     "output_type": "stream",
     "text": [
      "-0.01189854112044309\n"
     ]
    }
   ],
   "source": [
    "mean = np.sum(sample) / np.size(sample)\n",
    "print(mean)"
   ]
  },
  {
   "cell_type": "code",
   "execution_count": 14,
   "metadata": {
    "colab": {
     "base_uri": "https://localhost:8080/",
     "height": 34
    },
    "colab_type": "code",
    "id": "nmKbsbWpPah0",
    "outputId": "5199c026-3cb4-47f8-82dd-d6e503438c5d"
   },
   "outputs": [
    {
     "name": "stdout",
     "output_type": "stream",
     "text": [
      "4.998497306745704\n"
     ]
    }
   ],
   "source": [
    "std_deviation = sqrt(sum([(i - mean) ** 2 for i in sample]) / (len(sample)-1))\n",
    "print(std_deviation)"
   ]
  },
  {
   "cell_type": "markdown",
   "metadata": {},
   "source": [
    "### 4. Estimate the mean and covariance matrix for multi-dimensional data: generate 10,000 samples of 2 dimensional data from the Gaussian distribution $$\\left(\\begin{array}{cc} \n",
    "X_i\\\\ Y_i \\end{array}\\right) \n",
    "\\sim N \\left(\\begin{array}{cc} \n",
    "\\left(\\begin{array}{cc} -5\\\\5 \\end{array}\\right)\n",
    "\\left(\\begin{array}{cc}20 & .8\\\\ .8 & 30\\end{array}\\right)\n",
    "\\end{array}\\right)$$\n",
    "#### Then, estimate the mean and covariance matrix for this multi-dimensional data using elementary numpy commands, i.e., addition, multiplication, division (do not use a command that takes data and returns the mean or standard deviation). (Recall: this notation is a compact way of specifying the distribution of two Gaussian random variables that are correlated. Specifically, the notation indicates that X has mean −5 and variance 20, Y has mean 5 and variance 30, and the covariance of X and Y is 0.8, i.e., $E[(X + 5)(Y − 5)] = 0.8$.)"
   ]
  },
  {
   "cell_type": "code",
   "execution_count": 15,
   "metadata": {},
   "outputs": [],
   "source": [
    "mean = [-5,5]\n",
    "cov = [[20,.8],[.8,30]]\n",
    "matrix = np.random.multivariate_normal(mean, cov, 10000)\n",
    "\n",
    "n = len(matrix)"
   ]
  },
  {
   "cell_type": "code",
   "execution_count": 16,
   "metadata": {},
   "outputs": [
    {
     "data": {
      "text/plain": [
       "[-5.040703723301361, 5.053167059593329]"
      ]
     },
     "execution_count": 16,
     "metadata": {},
     "output_type": "execute_result"
    }
   ],
   "source": [
    "meanMatrix = [x/n for x in np.sum(matrix, axis=0)]\n",
    "meanMatrix"
   ]
  },
  {
   "cell_type": "code",
   "execution_count": 17,
   "metadata": {},
   "outputs": [
    {
     "data": {
      "text/plain": [
       "[[20.356821230599568, 1.093926088705975],\n",
       " [1.093926088705975, 30.232837838676616]]"
      ]
     },
     "execution_count": 17,
     "metadata": {},
     "output_type": "execute_result"
    }
   ],
   "source": [
    "def getCovMatrix(mtx, avmtx):\n",
    "    variances = []\n",
    "    for i in range(len(mtx)):\n",
    "        variance = [(mtx[i][0]-avmtx[0])**2, ##Variance of X\n",
    "                    (mtx[i][0]-avmtx[0])*(mtx[i][1]-avmtx[1]), ##Covariance of x and y\n",
    "                    (mtx[i][1]-avmtx[1])*(mtx[i][0]-avmtx[0]), ##Covariance of y and x\n",
    "                    (mtx[i][1]-avmtx[1])**2 ##Variance of Y\n",
    "                   ]\n",
    "        variances.append(variance)\n",
    "    varianceSummation = np.sum(variances, axis=0)\n",
    "    xx,yx,xy,yy = 0,1,2,3\n",
    "    newN = n-1\n",
    "    covMtx = [\n",
    "                [varianceSummation[xx]/(newN), varianceSummation[yx]/(newN)],\n",
    "                [varianceSummation[xy]/(newN), varianceSummation[yy]/(newN)]\n",
    "             ]\n",
    "    return covMtx\n",
    "getCovMatrix(matrix,meanMatrix)"
   ]
  },
  {
   "cell_type": "markdown",
   "metadata": {},
   "source": [
    "### 5. Download from Canvas/Files the dataset PatientData.csv.\n",
    "#### Each row is a patient and the last column is the condition that the patient has. Do data exploration using Pandas and other visualization tools to understand what you can about the dataset. For example:\n",
    "**(a) How many patients and how many features are there?**\n",
    "\n",
    "There are 452 patients and 280 features."
   ]
  },
  {
   "cell_type": "code",
   "execution_count": 18,
   "metadata": {},
   "outputs": [
    {
     "data": {
      "text/plain": [
       "(452, 280)"
      ]
     },
     "execution_count": 18,
     "metadata": {},
     "output_type": "execute_result"
    }
   ],
   "source": [
    "# Part (a)\n",
    "data = pd.read_csv(\"PatientData.csv\", header = None)\n",
    "df = pd.DataFrame(data) \n",
    "df.shape"
   ]
  },
  {
   "cell_type": "markdown",
   "metadata": {},
   "source": [
    "**(b) What is the meaning of the first 4 features? See if you can understand what they mean.**\n",
    "\n",
    "The first feature is age. \n",
    "\n",
    "The second feature is sex. \n",
    "\n",
    "The third feature is height (cm).\n",
    "\n",
    "The fourth feature is weight (kg). \n"
   ]
  },
  {
   "cell_type": "code",
   "execution_count": 19,
   "metadata": {},
   "outputs": [
    {
     "data": {
      "text/html": [
       "<div>\n",
       "<style scoped>\n",
       "    .dataframe tbody tr th:only-of-type {\n",
       "        vertical-align: middle;\n",
       "    }\n",
       "\n",
       "    .dataframe tbody tr th {\n",
       "        vertical-align: top;\n",
       "    }\n",
       "\n",
       "    .dataframe thead th {\n",
       "        text-align: right;\n",
       "    }\n",
       "</style>\n",
       "<table border=\"1\" class=\"dataframe\">\n",
       "  <thead>\n",
       "    <tr style=\"text-align: right;\">\n",
       "      <th></th>\n",
       "      <th>0</th>\n",
       "      <th>1</th>\n",
       "      <th>2</th>\n",
       "      <th>3</th>\n",
       "    </tr>\n",
       "  </thead>\n",
       "  <tbody>\n",
       "    <tr>\n",
       "      <th>0</th>\n",
       "      <td>75</td>\n",
       "      <td>0</td>\n",
       "      <td>190</td>\n",
       "      <td>80</td>\n",
       "    </tr>\n",
       "    <tr>\n",
       "      <th>1</th>\n",
       "      <td>56</td>\n",
       "      <td>1</td>\n",
       "      <td>165</td>\n",
       "      <td>64</td>\n",
       "    </tr>\n",
       "    <tr>\n",
       "      <th>2</th>\n",
       "      <td>54</td>\n",
       "      <td>0</td>\n",
       "      <td>172</td>\n",
       "      <td>95</td>\n",
       "    </tr>\n",
       "    <tr>\n",
       "      <th>3</th>\n",
       "      <td>55</td>\n",
       "      <td>0</td>\n",
       "      <td>175</td>\n",
       "      <td>94</td>\n",
       "    </tr>\n",
       "    <tr>\n",
       "      <th>4</th>\n",
       "      <td>75</td>\n",
       "      <td>0</td>\n",
       "      <td>190</td>\n",
       "      <td>80</td>\n",
       "    </tr>\n",
       "    <tr>\n",
       "      <th>5</th>\n",
       "      <td>13</td>\n",
       "      <td>0</td>\n",
       "      <td>169</td>\n",
       "      <td>51</td>\n",
       "    </tr>\n",
       "    <tr>\n",
       "      <th>6</th>\n",
       "      <td>40</td>\n",
       "      <td>1</td>\n",
       "      <td>160</td>\n",
       "      <td>52</td>\n",
       "    </tr>\n",
       "    <tr>\n",
       "      <th>7</th>\n",
       "      <td>49</td>\n",
       "      <td>1</td>\n",
       "      <td>162</td>\n",
       "      <td>54</td>\n",
       "    </tr>\n",
       "    <tr>\n",
       "      <th>8</th>\n",
       "      <td>44</td>\n",
       "      <td>0</td>\n",
       "      <td>168</td>\n",
       "      <td>56</td>\n",
       "    </tr>\n",
       "    <tr>\n",
       "      <th>9</th>\n",
       "      <td>50</td>\n",
       "      <td>1</td>\n",
       "      <td>167</td>\n",
       "      <td>67</td>\n",
       "    </tr>\n",
       "    <tr>\n",
       "      <th>10</th>\n",
       "      <td>62</td>\n",
       "      <td>0</td>\n",
       "      <td>170</td>\n",
       "      <td>72</td>\n",
       "    </tr>\n",
       "    <tr>\n",
       "      <th>11</th>\n",
       "      <td>45</td>\n",
       "      <td>1</td>\n",
       "      <td>165</td>\n",
       "      <td>86</td>\n",
       "    </tr>\n",
       "    <tr>\n",
       "      <th>12</th>\n",
       "      <td>54</td>\n",
       "      <td>1</td>\n",
       "      <td>172</td>\n",
       "      <td>58</td>\n",
       "    </tr>\n",
       "    <tr>\n",
       "      <th>13</th>\n",
       "      <td>30</td>\n",
       "      <td>0</td>\n",
       "      <td>170</td>\n",
       "      <td>73</td>\n",
       "    </tr>\n",
       "    <tr>\n",
       "      <th>14</th>\n",
       "      <td>44</td>\n",
       "      <td>1</td>\n",
       "      <td>160</td>\n",
       "      <td>88</td>\n",
       "    </tr>\n",
       "  </tbody>\n",
       "</table>\n",
       "</div>"
      ],
      "text/plain": [
       "     0  1    2   3\n",
       "0   75  0  190  80\n",
       "1   56  1  165  64\n",
       "2   54  0  172  95\n",
       "3   55  0  175  94\n",
       "4   75  0  190  80\n",
       "5   13  0  169  51\n",
       "6   40  1  160  52\n",
       "7   49  1  162  54\n",
       "8   44  0  168  56\n",
       "9   50  1  167  67\n",
       "10  62  0  170  72\n",
       "11  45  1  165  86\n",
       "12  54  1  172  58\n",
       "13  30  0  170  73\n",
       "14  44  1  160  88"
      ]
     },
     "execution_count": 19,
     "metadata": {},
     "output_type": "execute_result"
    }
   ],
   "source": [
    "df.iloc[:15,:4]"
   ]
  },
  {
   "cell_type": "markdown",
   "metadata": {},
   "source": [
    "**(c) Are there missing values? Replace them with the average of the corresponding feature column**\n",
    "\n",
    "Yes, they are denoted by \"?\""
   ]
  },
  {
   "cell_type": "code",
   "execution_count": 20,
   "metadata": {},
   "outputs": [],
   "source": [
    "# Part C\n",
    "df.replace('?',np.nan, inplace=True)"
   ]
  },
  {
   "cell_type": "code",
   "execution_count": 21,
   "metadata": {},
   "outputs": [],
   "source": [
    "# Part C continued\n",
    "df_missing = df.dropna(how = 'any')\n",
    "df_mean = df_missing.mean(axis = 0)\n",
    "df.fillna(df_mean, inplace = True)"
   ]
  },
  {
   "cell_type": "markdown",
   "metadata": {},
   "source": [
    "**(d) How could you test which features strongly influence the patient condition and which do not? List what you think are the three most important features**\n",
    "\n",
    "We can test which features have the highest correlation with patient outcome, the last column in the dataframe. The top three most important features are columns 90, 4 and 92.\n"
   ]
  },
  {
   "cell_type": "code",
   "execution_count": 22,
   "metadata": {},
   "outputs": [
    {
     "data": {
      "text/plain": [
       "279    1.000000\n",
       "90     0.368876\n",
       "4      0.323879\n",
       "92     0.313982\n",
       "Name: 279, dtype: float64"
      ]
     },
     "execution_count": 22,
     "metadata": {},
     "output_type": "execute_result"
    }
   ],
   "source": [
    "# Part D\n",
    "corr_matrix = df.corr()\n",
    "corr_matrix[279].sort_values(ascending=False).head(4)"
   ]
  },
  {
   "cell_type": "markdown",
   "metadata": {},
   "source": [
    "# Written Questions"
   ]
  },
  {
   "cell_type": "markdown",
   "metadata": {},
   "source": [
    "### 1. Consider two random variables X,Y that are not independent. Their probabilities of are given by the following table:\n",
    "\n",
    "#### (a) What is the probability that X = 1?\n",
    "\n",
    "P(X=1) = 1/4 + 1/3 = 3/12 + 4/12 = 7/12\n",
    "\n",
    "#### (b) What is the probability that X = 1 conditioned on Y = 1?\n",
    "\n",
    "P(X=1|Y=1) = 1/3 / (1/6 + 1/3) = 1/3 / 1/2 = 2/3\n",
    "\n",
    "#### (c) What is the variance of the random variable X?\n",
    "\n",
    "$Var(X) = E(X^2) - \\mu^2$\n",
    "\n",
    "$\\mu$ = mean of X = E(X) = 0(1/4 + 1/6) + 1(1/4 + 1/3) = 7/12\n",
    "\n",
    "$E(X^2)$ = 0^2(1/4 + 1/6) + 1^2 (1/4 + 1/3) = 7/12\n",
    "\n",
    "$Var(X)$ = 7/12 - (7/12)^2 = 84/144 - 49/144 = 35/144\n",
    "\n",
    "#### (d) What is the variance of the random variable X conditioned that Y = 1? \n",
    "\n",
    "$Var(X|Y = 1) = E(X|Y=1^2) - \\mu^2$\n",
    "\n",
    "$\\mu$ = mean of X|Y=1 = E(X|Y=1) = 0(1/3) + 1(2/3) = 2/3\n",
    "\n",
    "$E(X|Y=1^2)$ = 0^2(1/3) + 1^2 (2/3) = 2/3\n",
    "\n",
    "$Var(X)$ = 2/3 - (2/3)^2 = 6/9 - 4/9 = 2/9\n",
    "\n",
    "#### (e) What is E[X3+X2+3Y7|Y =1|]?\n",
    "\n",
    "E[X3+X2+3Y7|Y =1|] \n",
    "\n",
    "= E(X^3|Y=1) + E(X^2|Y=1) + 3E(Y^7|Y=1)\n",
    "\n",
    "= 0^3*(1/3) + 1^3*(2/3) + 0^2*(1/3) + 1^2*(2/3) + 3*1\n",
    "\n",
    "= 2/3 + 2/3 + 3 = 13/3"
   ]
  },
  {
   "cell_type": "markdown",
   "metadata": {},
   "source": [
    "### 2. Consider the vectors v1 = [1, 1, 1] and v2 = [1, 0, 0]. These two vectors define a 2-dimensional subspace of $R_3$. Project the points P1 = [3,3,3],P2 = [1,2,3],P3 = [0,0,1] on this subspace. Write down the coordinates of the three projected points. (You can use numpy or a calculator to do arithmetic if you want).\n",
    "\n",
    "$R_3$ = span($v_1$, $v_2$)\n",
    "\n",
    "$p_1|R_3 = \\frac{<p_1,v_1>}{<v_1,v_1>}v_1$ + $\\frac{<p_1,v_2>}{<v_2,v_2>}v_2$ \n",
    "\n",
    "= 9/3[1,1,1] + 3/1[1,0,0] = [6,3,3]\n",
    "\n",
    "$p_2|R_3 = \\frac{<p_2,v_1>}{<v_1,v_1>}v_1$ + $\\frac{<p_2,v_2>}{<v_2,v_2>}v_2$\n",
    "\n",
    "= 6/3[1,1,1] + [1,0,0] = [3,2,2]\n",
    "\n",
    "$p_3|R_3 = \\frac{<p_3,v_1>}{<v_1,v_1>}v_1$ + $\\frac{<p_3,v_2>}{<v_2,v_2>}v_2$\n",
    "\n",
    "= 1/3[1,1,1] = [1/3,1/3,1/3]"
   ]
  },
  {
   "cell_type": "markdown",
   "metadata": {},
   "source": [
    "### 3. Consider a coin such that probability of heads is 2/3. Suppose you toss the coin 100 times. Estimate the probability of getting 50 or fewer heads. You can do this in a variety of ways. One way is to use the Central Limit Theorem. Be explicit in your calculations and tell us what tools you are using in these."
   ]
  },
  {
   "cell_type": "markdown",
   "metadata": {},
   "source": [
    "|Heads(1)|Tails(0)|\n",
    "|--------|--------|\n",
    "|P = 2/3 | P = 1/3|\n",
    "\n",
    "---\n",
    "The Bernoulli variable where Heads/success = 1 and Tails/failure = 0 has mean $\\mu = 2/3*1 + 1/3*0 = .667$. This number $(\\frac{2}{3})$ represents the proportion of heads we expect to see per coin flip. We therefore expect to see, on average, about 67 Heads per 100 Coin Flips.\n",
    "\n",
    "We want to know the likelihood of flipping 50 or fewer heads in 100 flips. The next step is to calculate Variance.\n",
    "\n",
    "Variance is calculated as $variance = n*p*q$ where $p =$ Probability of success/heads and $q =$ Probability of failure/tails or $(1-p)$ and n is the number of trials $n=100$. In this case, $variance = 100*(\\frac{2}{3})*(\\frac{1}{3}) = 100*\\frac{2}{9} = \\frac{200}{9}$\n",
    "\n",
    "We can then take the square root of variance to find the standard deviation. $\\sigma = \\sqrt{variance} = \\sqrt{\\frac{200}{9}} = 4.714$\n",
    "\n",
    "With $\\sigma = 4.714$ and $\\mu = .667$, in our sample size $n = 100$, we want to find the corresponding Z Score for an observed average success rate of $X = .5$ or less. Knowing that $Z = \\frac{X-\\mu}{\\sigma}$, we can calculate the Z score is $Z = \\frac{.5-.667}{4.714} = -3.535$ for this scenario. Therefore, to determine the likelihood of observing $Pr(\\bar{X}≤.5) = Pr(Z ≤ -3.535) =$ `stats.norm.cdf(-3.535)` $= .0002$ meaning the likelihood of flipping 50 heads or fewer in 100 flips is about .02%"
   ]
  },
  {
   "cell_type": "code",
   "execution_count": 23,
   "metadata": {},
   "outputs": [
    {
     "data": {
      "text/plain": [
       "0.0002038875792247969"
      ]
     },
     "execution_count": 23,
     "metadata": {},
     "output_type": "execute_result"
    }
   ],
   "source": [
    "stats.norm.cdf(-3.535)"
   ]
  }
 ],
 "metadata": {
  "colab": {
   "name": "HW1.ipynb",
   "provenance": [],
   "toc_visible": true,
   "version": "0.3.2"
  },
  "kernelspec": {
   "display_name": "Python 3",
   "language": "python",
   "name": "python3"
  },
  "language_info": {
   "codemirror_mode": {
    "name": "ipython",
    "version": 3
   },
   "file_extension": ".py",
   "mimetype": "text/x-python",
   "name": "python",
   "nbconvert_exporter": "python",
   "pygments_lexer": "ipython3",
   "version": "3.7.3"
  }
 },
 "nbformat": 4,
 "nbformat_minor": 1
}
