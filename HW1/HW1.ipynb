{
  "nbformat": 4,
  "nbformat_minor": 0,
  "metadata": {
    "kernelspec": {
      "display_name": "Python 3",
      "language": "python",
      "name": "python3"
    },
    "language_info": {
      "codemirror_mode": {
        "name": "ipython",
        "version": 3
      },
      "file_extension": ".py",
      "mimetype": "text/x-python",
      "name": "python",
      "nbconvert_exporter": "python",
      "pygments_lexer": "ipython3",
      "version": "3.7.3"
    },
    "colab": {
      "name": "HW1.ipynb",
      "version": "0.3.2",
      "provenance": [],
      "toc_visible": true
    }
  },
  "cells": [
    {
      "cell_type": "code",
      "metadata": {
        "id": "ZRcwVc46R37A",
        "colab_type": "code",
        "colab": {}
      },
      "source": [
        "import pandas as pd\n",
        "import numpy as np\n",
        "import matplotlib.pyplot as plt\n",
        "from math import sqrt"
      ],
      "execution_count": 0,
      "outputs": []
    },
    {
      "cell_type": "markdown",
      "metadata": {
        "id": "fxXaFHrOR37N",
        "colab_type": "text"
      },
      "source": [
        "### **1. Create 1000 samples from a Gaussian distribution with mean -10 and standard deviation 5. Create another 1000 samples from another independent Gaussian with mean 10 and standard deviation 5.**\n",
        "    1. Take the sum of 2 these Gaussians by adding the two sets of 1000 points, point by point, and plot the histogram of the resulting 1000 points. What do you observe?  \n",
        "    2. Estimate the mean and the variance of the sum."
      ]
    },
    {
      "cell_type": "code",
      "metadata": {
        "id": "sORdOOqRR37O",
        "colab_type": "code",
        "colab": {}
      },
      "source": [
        "mu = -10\n",
        "sigma = 5\n",
        "sample1 = np.random.normal(mu, sigma, 1000)\n",
        "sample2 = np.random.normal(mu, sigma, 1000)\n",
        "\n",
        "df = pd.DataFrame()\n",
        "df['sample 1'] = sample1\n",
        "df['sample 2'] = sample2"
      ],
      "execution_count": 0,
      "outputs": []
    },
    {
      "cell_type": "code",
      "metadata": {
        "id": "9TqduaSWR37c",
        "colab_type": "code",
        "colab": {
          "base_uri": "https://localhost:8080/",
          "height": 357
        },
        "outputId": "e0c2b45c-bced-4f0c-be8e-6695805314d1"
      },
      "source": [
        "df['sum sample'] = df['sample 1'] + df['sample 2']\n",
        "plt.hist(df['sum sample'])"
      ],
      "execution_count": 29,
      "outputs": [
        {
          "output_type": "execute_result",
          "data": {
            "text/plain": [
              "(array([  6.,  20.,  64., 148., 239., 264., 154.,  84.,  17.,   4.]),\n",
              " array([-43.19052102, -38.59043089, -33.99034075, -29.39025062,\n",
              "        -24.79016049, -20.19007035, -15.58998022, -10.98989009,\n",
              "         -6.38979995,  -1.78970982,   2.81038031]),\n",
              " <a list of 10 Patch objects>)"
            ]
          },
          "metadata": {
            "tags": []
          },
          "execution_count": 29
        },
        {
          "output_type": "display_data",
          "data": {
            "image/png": "[encoded data removed]",
            "text/plain": [
              "<Figure size 432x288 with 1 Axes>"
            ]
          },
          "metadata": {
            "tags": []
          }
        }
      ]
    },
    {
      "cell_type": "code",
      "metadata": {
        "id": "252VqInIR37p",
        "colab_type": "code",
        "colab": {
          "base_uri": "https://localhost:8080/",
          "height": 35
        },
        "outputId": "1bd14fcd-4f46-41ca-8e3e-bf1755faa513"
      },
      "source": [
        "df['sum sample'].mean()"
      ],
      "execution_count": 30,
      "outputs": [
        {
          "output_type": "execute_result",
          "data": {
            "text/plain": [
              "-19.914067265670116"
            ]
          },
          "metadata": {
            "tags": []
          },
          "execution_count": 30
        }
      ]
    },
    {
      "cell_type": "code",
      "metadata": {
        "id": "EepRPX9_R37u",
        "colab_type": "code",
        "colab": {
          "base_uri": "https://localhost:8080/",
          "height": 35
        },
        "outputId": "b408ae28-f1c2-4026-92a7-728249b9582c"
      },
      "source": [
        "df['sum sample'].var()"
      ],
      "execution_count": 31,
      "outputs": [
        {
          "output_type": "execute_result",
          "data": {
            "text/plain": [
              "49.85003895931956"
            ]
          },
          "metadata": {
            "tags": []
          },
          "execution_count": 31
        }
      ]
    },
    {
      "cell_type": "code",
      "metadata": {
        "scrolled": true,
        "id": "fixu6B3_R38G",
        "colab_type": "code",
        "colab": {
          "base_uri": "https://localhost:8080/",
          "height": 203
        },
        "outputId": "cba77a34-ec70-4788-b205-db66b6554f0a"
      },
      "source": [
        "df.head()"
      ],
      "execution_count": 32,
      "outputs": [
        {
          "output_type": "execute_result",
          "data": {
            "text/html": [
              "<div>\n",
              "<style scoped>\n",
              "    .dataframe tbody tr th:only-of-type {\n",
              "        vertical-align: middle;\n",
              "    }\n",
              "\n",
              "    .dataframe tbody tr th {\n",
              "        vertical-align: top;\n",
              "    }\n",
              "\n",
              "    .dataframe thead th {\n",
              "        text-align: right;\n",
              "    }\n",
              "</style>\n",
              "<table border=\"1\" class=\"dataframe\">\n",
              "  <thead>\n",
              "    <tr style=\"text-align: right;\">\n",
              "      <th></th>\n",
              "      <th>sample 1</th>\n",
              "      <th>sample 2</th>\n",
              "      <th>sum sample</th>\n",
              "    </tr>\n",
              "  </thead>\n",
              "  <tbody>\n",
              "    <tr>\n",
              "      <th>0</th>\n",
              "      <td>-3.740564</td>\n",
              "      <td>-6.245916</td>\n",
              "      <td>-9.986480</td>\n",
              "    </tr>\n",
              "    <tr>\n",
              "      <th>1</th>\n",
              "      <td>1.727029</td>\n",
              "      <td>-16.831504</td>\n",
              "      <td>-15.104475</td>\n",
              "    </tr>\n",
              "    <tr>\n",
              "      <th>2</th>\n",
              "      <td>-25.269293</td>\n",
              "      <td>-12.853493</td>\n",
              "      <td>-38.122786</td>\n",
              "    </tr>\n",
              "    <tr>\n",
              "      <th>3</th>\n",
              "      <td>-8.850479</td>\n",
              "      <td>-8.850332</td>\n",
              "      <td>-17.700811</td>\n",
              "    </tr>\n",
              "    <tr>\n",
              "      <th>4</th>\n",
              "      <td>-19.802342</td>\n",
              "      <td>-7.299080</td>\n",
              "      <td>-27.101422</td>\n",
              "    </tr>\n",
              "  </tbody>\n",
              "</table>\n",
              "</div>"
            ],
            "text/plain": [
              "    sample 1   sample 2  sum sample\n",
              "0  -3.740564  -6.245916   -9.986480\n",
              "1   1.727029 -16.831504  -15.104475\n",
              "2 -25.269293 -12.853493  -38.122786\n",
              "3  -8.850479  -8.850332  -17.700811\n",
              "4 -19.802342  -7.299080  -27.101422"
            ]
          },
          "metadata": {
            "tags": []
          },
          "execution_count": 32
        }
      ]
    },
    {
      "cell_type": "markdown",
      "metadata": {
        "id": "O9Wfsv-8R38M",
        "colab_type": "text"
      },
      "source": [
        "### 2. Central Limit Theorem Let $X_i$ be an [iid](https://en.wikipedia.org/wiki/Independent_and_identically_distributed_random_variables) Bernoulli random variable with value {-1,1}. Look at the random variable $Z_n = \\frac{1}{\\sqrt{n}}\\sum X_{i}$ By taking 1000 draws from $Z_n$, plot its histogram. Check that for small $n$ (say, 5-10) $Z_n$ does not look that much like a Gaussian, but when $n$ is bigger (already by the time $n$ = 30 or 50) it looks much more like a Gaussian. Check also for much bigger $n$: $n$ = 250, to see that at this point, one can really see the bell curve"
      ]
    },
    {
      "cell_type": "code",
      "metadata": {
        "id": "vqN3tKnMR38O",
        "colab_type": "code",
        "colab": {}
      },
      "source": [
        "def getXi(): return np.random.choice((-1,0,1),1)[0]\n",
        "def getSumXi(n): return sum(np.random.choice((-1,0,1),n))\n",
        "def getZn(n): return (1/(sqrt(n)) * getSumXi(n))\n",
        "def getZnDf(n):\n",
        "    df = pd.DataFrame(columns=['Zn'])\n",
        "    values = []\n",
        "    for i in range(1,n):\n",
        "        values.append(getZn(i))\n",
        "    return df.append(pd.DataFrame({'Zn':values}))"
      ],
      "execution_count": 0,
      "outputs": []
    },
    {
      "cell_type": "code",
      "metadata": {
        "id": "2iQqkJJxR38c",
        "colab_type": "code",
        "colab": {
          "base_uri": "https://localhost:8080/",
          "height": 357
        },
        "outputId": "426daf16-d506-4469-cc68-f719ca78c1c8"
      },
      "source": [
        "df = getZnDf(5)\n",
        "plt.hist(df.Zn)"
      ],
      "execution_count": 34,
      "outputs": [
        {
          "output_type": "execute_result",
          "data": {
            "text/plain": [
              "(array([1., 0., 0., 0., 2., 0., 0., 0., 0., 1.]),\n",
              " array([-0.70710678, -0.5363961 , -0.36568542, -0.19497475, -0.02426407,\n",
              "         0.14644661,  0.31715729,  0.48786797,  0.65857864,  0.82928932,\n",
              "         1.        ]),\n",
              " <a list of 10 Patch objects>)"
            ]
          },
          "metadata": {
            "tags": []
          },
          "execution_count": 34
        },
        {
          "output_type": "display_data",
          "data": {
            "image/png": "[encoded data removed]",
            "text/plain": [
              "<Figure size 432x288 with 1 Axes>"
            ]
          },
          "metadata": {
            "tags": []
          }
        }
      ]
    },
    {
      "cell_type": "code",
      "metadata": {
        "id": "uxckpgDdR38l",
        "colab_type": "code",
        "colab": {
          "base_uri": "https://localhost:8080/",
          "height": 357
        },
        "outputId": "c7128538-5c4a-4c2b-ab21-9fb2c6b433b7"
      },
      "source": [
        "df = getZnDf(30)\n",
        "plt.hist(df.Zn)"
      ],
      "execution_count": 35,
      "outputs": [
        {
          "output_type": "execute_result",
          "data": {
            "text/plain": [
              "(array([1., 4., 2., 7., 4., 1., 5., 1., 3., 1.]),\n",
              " array([-1.75      , -1.38254991, -1.01509982, -0.64764973, -0.28019964,\n",
              "         0.08725045,  0.45470054,  0.82215063,  1.18960072,  1.55705081,\n",
              "         1.9245009 ]),\n",
              " <a list of 10 Patch objects>)"
            ]
          },
          "metadata": {
            "tags": []
          },
          "execution_count": 35
        },
        {
          "output_type": "display_data",
          "data": {
            "image/png": "[encoded data removed]",
            "text/plain": [
              "<Figure size 432x288 with 1 Axes>"
            ]
          },
          "metadata": {
            "tags": []
          }
        }
      ]
    },
    {
      "cell_type": "code",
      "metadata": {
        "id": "u3i0__aKR38r",
        "colab_type": "code",
        "colab": {
          "base_uri": "https://localhost:8080/",
          "height": 357
        },
        "outputId": "67f25293-6f6f-48ff-9183-835b3454a394"
      },
      "source": [
        "df = getZnDf(50)\n",
        "plt.hist(df.Zn)"
      ],
      "execution_count": 36,
      "outputs": [
        {
          "output_type": "execute_result",
          "data": {
            "text/plain": [
              "(array([ 1.,  1.,  2.,  5.,  4.,  3., 12., 10.,  6.,  5.]),\n",
              " array([-2.04124145, -1.70919688, -1.3771523 , -1.04510773, -0.71306315,\n",
              "        -0.38101858, -0.048974  ,  0.28307057,  0.61511515,  0.94715972,\n",
              "         1.2792043 ]),\n",
              " <a list of 10 Patch objects>)"
            ]
          },
          "metadata": {
            "tags": []
          },
          "execution_count": 36
        },
        {
          "output_type": "display_data",
          "data": {
            "image/png": "[encoded data removed]",
            "text/plain": [
              "<Figure size 432x288 with 1 Axes>"
            ]
          },
          "metadata": {
            "tags": []
          }
        }
      ]
    },
    {
      "cell_type": "code",
      "metadata": {
        "id": "mSEdA6q3R38x",
        "colab_type": "code",
        "colab": {
          "base_uri": "https://localhost:8080/",
          "height": 357
        },
        "outputId": "89d2afbe-93cd-4708-e3d3-e822a3a092e8"
      },
      "source": [
        "df = getZnDf(250)\n",
        "plt.hist(df.Zn)"
      ],
      "execution_count": 37,
      "outputs": [
        {
          "output_type": "execute_result",
          "data": {
            "text/plain": [
              "(array([ 4.,  9., 18., 35., 49., 54., 38., 24., 14.,  4.]),\n",
              " array([-2.42487113, -1.96102458, -1.49717803, -1.03333148, -0.56948493,\n",
              "        -0.10563838,  0.35820817,  0.82205471,  1.28590126,  1.74974781,\n",
              "         2.21359436]),\n",
              " <a list of 10 Patch objects>)"
            ]
          },
          "metadata": {
            "tags": []
          },
          "execution_count": 37
        },
        {
          "output_type": "display_data",
          "data": {
            "image/png": "[encoded data removed]",
            "text/plain": [
              "<Figure size 432x288 with 1 Axes>"
            ]
          },
          "metadata": {
            "tags": []
          }
        }
      ]
    },
    {
      "cell_type": "markdown",
      "metadata": {
        "id": "5TQuU2xTSMcl",
        "colab_type": "text"
      },
      "source": [
        "### Estimate the mean and standard deviation from 1 dimensional data: generate 25,000 samples from a Gaussian distribution with mean 0 and standard deviation 5. Then estimate the mean and standard deviation of this gaussian using elementary numpy commands, i.e., addition,multiplication, division (do not use a command that takes data and returns the mean or standard deviation)."
      ]
    },
    {
      "cell_type": "code",
      "metadata": {
        "id": "N3iBVVvFSCMm",
        "colab_type": "code",
        "colab": {}
      },
      "source": [
        ""
      ],
      "execution_count": 0,
      "outputs": []
    }
  ]
}