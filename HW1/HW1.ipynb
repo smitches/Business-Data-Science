{
 "cells": [
  {
   "cell_type": "code",
   "execution_count": 1,
   "metadata": {
    "colab": {},
    "colab_type": "code",
    "id": "ZRcwVc46R37A"
   },
   "outputs": [],
   "source": [
    "import pandas as pd\n",
    "import numpy as np\n",
    "import matplotlib.pyplot as plt\n",
    "from math import sqrt"
   ]
  },
  {
   "cell_type": "markdown",
   "metadata": {
    "colab_type": "text",
    "id": "fxXaFHrOR37N"
   },
   "source": [
    "### **1. Create 1000 samples from a Gaussian distribution with mean -10 and standard deviation 5. Create another 1000 samples from another independent Gaussian with mean 10 and standard deviation 5.**\n",
    "(a) Take the sum of 2 these Gaussians by adding the two sets of 1000 points, point by point, and plot the histogram of the resulting 1000 points. What do you observe?  \n",
    "\n",
    "(b) Estimate the mean and the variance of the sum."
   ]
  },
  {
   "cell_type": "code",
   "execution_count": 15,
   "metadata": {
    "colab": {},
    "colab_type": "code",
    "id": "sORdOOqRR37O"
   },
   "outputs": [],
   "source": [
    "mu = -10\n",
    "sigma = 5\n",
    "sample1 = np.random.normal(mu, sigma, 1000)\n",
    "sample2 = np.random.normal(mu, sigma, 1000)\n",
    "\n",
    "# df = pd.DataFrame()\n",
    "# df['sample 1'] = sample1\n",
    "# df['sample 2'] = sample2\n",
    "sample_sum = sample1 + sample2"
   ]
  },
  {
   "cell_type": "code",
   "execution_count": 17,
   "metadata": {},
   "outputs": [
    {
     "data": {
      "text/plain": [
       "1000"
      ]
     },
     "execution_count": 17,
     "metadata": {},
     "output_type": "execute_result"
    }
   ],
   "source": [
    "np.size(sample_sum)"
   ]
  },
  {
   "cell_type": "code",
   "execution_count": 18,
   "metadata": {
    "colab": {
     "base_uri": "https://localhost:8080/",
     "height": 357
    },
    "colab_type": "code",
    "id": "9TqduaSWR37c",
    "outputId": "2cab30a8-fa96-44ab-8022-a4e2530c8672"
   },
   "outputs": [
    {
     "data": {
      "text/plain": [
       "(array([  3.,  14.,  70., 146., 239., 223., 192.,  72.,  33.,   8.]),\n",
       " array([-43.67856905, -39.06168189, -34.44479472, -29.82790755,\n",
       "        -25.21102039, -20.59413322, -15.97724605, -11.36035889,\n",
       "         -6.74347172,  -2.12658455,   2.49030261]),\n",
       " <a list of 10 Patch objects>)"
      ]
     },
     "execution_count": 18,
     "metadata": {},
     "output_type": "execute_result"
    },
    {
     "data": {
      "image/png": "[encoded data removed]",
      "text/plain": [
       "<Figure size 432x288 with 1 Axes>"
      ]
     },
     "metadata": {
      "needs_background": "light"
     },
     "output_type": "display_data"
    }
   ],
   "source": [
    "# df['sum sample'] = df['sample 1'] + df['sample 2']\n",
    "plt.hist(sample_sum)"
   ]
  },
  {
   "cell_type": "code",
   "execution_count": 19,
   "metadata": {
    "colab": {
     "base_uri": "https://localhost:8080/",
     "height": 35
    },
    "colab_type": "code",
    "id": "252VqInIR37p",
    "outputId": "0984f19b-3aa9-46a6-f88a-e91d7cc7095d"
   },
   "outputs": [
    {
     "data": {
      "text/plain": [
       "-19.953638046340135"
      ]
     },
     "execution_count": 19,
     "metadata": {},
     "output_type": "execute_result"
    }
   ],
   "source": [
    "sample_sum.mean()"
   ]
  },
  {
   "cell_type": "code",
   "execution_count": 20,
   "metadata": {
    "colab": {
     "base_uri": "https://localhost:8080/",
     "height": 35
    },
    "colab_type": "code",
    "id": "EepRPX9_R37u",
    "outputId": "cc7c1b69-469b-466d-fd01-0ccb5f4d47b2"
   },
   "outputs": [
    {
     "data": {
      "text/plain": [
       "52.39518654137225"
      ]
     },
     "execution_count": 20,
     "metadata": {},
     "output_type": "execute_result"
    }
   ],
   "source": [
    "sample_sum.var()"
   ]
  },
  {
   "cell_type": "code",
   "execution_count": 32,
   "metadata": {},
   "outputs": [
    {
     "name": "stdout",
     "output_type": "stream",
     "text": [
      "Mean estimate is\t -19.953638046340135\n",
      "Variance estimate is\t  52.39518654137223\n"
     ]
    }
   ],
   "source": [
    "mean = np.sum(sample_sum) / np.size(sample_sum)\n",
    "variance = sum([(x - mean) ** 2 for x in sample_sum]) / (len(sample_sum))\n",
    "print('Mean estimate is\\t {}\\nVariance estimate is\\t  {}'.format(mean, variance))"
   ]
  },
  {
   "cell_type": "markdown",
   "metadata": {
    "colab_type": "text",
    "id": "O9Wfsv-8R38M"
   },
   "source": [
    "### 2. Central Limit Theorem Let $X_i$ be an [iid](https://en.wikipedia.org/wiki/Independent_and_identically_distributed_random_variables) Bernoulli random variable with value {-1,1}. Look at the random variable $Z_n = \\frac{1}{\\sqrt{n}}\\sum X_{i}$ \n",
    "#### By taking 1000 draws from $Z_n$, plot its histogram. Check that for small $n$ (say, 5-10) $Z_n$ does not look that much like a Gaussian, but when $n$ is bigger (already by the time $n$ = 30 or 50) it looks much more like a Gaussian. Check also for much bigger $n$: $n$ = 250, to see that at this point, one can really see the bell curve"
   ]
  },
  {
   "cell_type": "code",
   "execution_count": 47,
   "metadata": {
    "colab": {},
    "colab_type": "code",
    "id": "vqN3tKnMR38O"
   },
   "outputs": [],
   "source": [
    "def getSumXi(n): return sum(np.random.choice((-1,1),n))\n",
    "def getZn(n): return (1/(sqrt(n)) * getSumXi(n))\n",
    "def getZnArray(n):\n",
    "    values = []\n",
    "    for i in range(1000):\n",
    "        values.append(getZn(n))\n",
    "    return np.array(values)"
   ]
  },
  {
   "cell_type": "code",
   "execution_count": 48,
   "metadata": {
    "colab": {
     "base_uri": "https://localhost:8080/",
     "height": 357
    },
    "colab_type": "code",
    "id": "2iQqkJJxR38c",
    "outputId": "3a9a47bd-9a9f-44f8-d092-ca0916540220"
   },
   "outputs": [
    {
     "data": {
      "text/plain": [
       "(array([ 27.,   0., 167., 324.,   0., 294.,   0., 155.,   0.,  33.]),\n",
       " array([-2.23606798, -1.78885438, -1.34164079, -0.89442719, -0.4472136 ,\n",
       "         0.        ,  0.4472136 ,  0.89442719,  1.34164079,  1.78885438,\n",
       "         2.23606798]),\n",
       " <a list of 10 Patch objects>)"
      ]
     },
     "execution_count": 48,
     "metadata": {},
     "output_type": "execute_result"
    },
    {
     "data": {
      "image/png": "[encoded data removed]",
      "text/plain": [
       "<Figure size 432x288 with 1 Axes>"
      ]
     },
     "metadata": {
      "needs_background": "light"
     },
     "output_type": "display_data"
    }
   ],
   "source": [
    "values = getZnArray(5)\n",
    "plt.hist(values)"
   ]
  },
  {
   "cell_type": "code",
   "execution_count": 49,
   "metadata": {
    "colab": {
     "base_uri": "https://localhost:8080/",
     "height": 357
    },
    "colab_type": "code",
    "id": "2iQqkJJxR38c",
    "outputId": "3a9a47bd-9a9f-44f8-d092-ca0916540220"
   },
   "outputs": [
    {
     "data": {
      "text/plain": [
       "(array([  2.,  20.,  64., 222., 252., 258., 121.,  44.,  16.,   1.]),\n",
       " array([-3.28633535, -2.59255344, -1.89877153, -1.20498963, -0.51120772,\n",
       "         0.18257419,  0.87635609,  1.570138  ,  2.2639199 ,  2.95770181,\n",
       "         3.65148372]),\n",
       " <a list of 10 Patch objects>)"
      ]
     },
     "execution_count": 49,
     "metadata": {},
     "output_type": "execute_result"
    },
    {
     "data": {
      "image/png": "[encoded data removed]",
      "text/plain": [
       "<Figure size 432x288 with 1 Axes>"
      ]
     },
     "metadata": {
      "needs_background": "light"
     },
     "output_type": "display_data"
    }
   ],
   "source": [
    "values = getZnArray(30)\n",
    "plt.hist(values)"
   ]
  },
  {
   "cell_type": "code",
   "execution_count": 50,
   "metadata": {
    "colab": {
     "base_uri": "https://localhost:8080/",
     "height": 357
    },
    "colab_type": "code",
    "id": "2iQqkJJxR38c",
    "outputId": "3a9a47bd-9a9f-44f8-d092-ca0916540220"
   },
   "outputs": [
    {
     "data": {
      "text/plain": [
       "(array([  3.,  14.,  90., 137., 287., 230., 140.,  86.,  10.,   3.]),\n",
       " array([-3.39411255e+00, -2.71529004e+00, -2.03646753e+00, -1.35764502e+00,\n",
       "        -6.78822510e-01,  4.44089210e-16,  6.78822510e-01,  1.35764502e+00,\n",
       "         2.03646753e+00,  2.71529004e+00,  3.39411255e+00]),\n",
       " <a list of 10 Patch objects>)"
      ]
     },
     "execution_count": 50,
     "metadata": {},
     "output_type": "execute_result"
    },
    {
     "data": {
      "image/png": "[encoded data removed]",
      "text/plain": [
       "<Figure size 432x288 with 1 Axes>"
      ]
     },
     "metadata": {
      "needs_background": "light"
     },
     "output_type": "display_data"
    }
   ],
   "source": [
    "values = getZnArray(50)\n",
    "plt.hist(values)"
   ]
  },
  {
   "cell_type": "code",
   "execution_count": 51,
   "metadata": {
    "colab": {
     "base_uri": "https://localhost:8080/",
     "height": 357
    },
    "colab_type": "code",
    "id": "2iQqkJJxR38c",
    "outputId": "3a9a47bd-9a9f-44f8-d092-ca0916540220"
   },
   "outputs": [
    {
     "data": {
      "text/plain": [
       "(array([  5.,   8.,  48., 128., 208., 302., 169., 100.,  29.,   3.]),\n",
       " array([-3.54175098, -2.858699  , -2.17564703, -1.49259506, -0.80954308,\n",
       "        -0.12649111,  0.55656087,  1.23961284,  1.92266482,  2.60571679,\n",
       "         3.28876877]),\n",
       " <a list of 10 Patch objects>)"
      ]
     },
     "execution_count": 51,
     "metadata": {},
     "output_type": "execute_result"
    },
    {
     "data": {
      "image/png": "[encoded data removed]",
      "text/plain": [
       "<Figure size 432x288 with 1 Axes>"
      ]
     },
     "metadata": {
      "needs_background": "light"
     },
     "output_type": "display_data"
    }
   ],
   "source": [
    "values = getZnArray(250)\n",
    "plt.hist(values)"
   ]
  },
  {
   "cell_type": "markdown",
   "metadata": {
    "colab_type": "text",
    "id": "5TQuU2xTSMcl"
   },
   "source": [
    "### 3. Estimate the mean and standard deviation from 1 dimensional data: generate 25,000 samples from a Gaussian distribution with mean 0 and standard deviation 5. Then estimate the mean and standard deviation of this gaussian using elementary numpy commands, i.e., addition,multiplication, division (do not use a command that takes data and returns the mean or standard deviation)."
   ]
  },
  {
   "cell_type": "code",
   "execution_count": 12,
   "metadata": {
    "colab": {},
    "colab_type": "code",
    "id": "N3iBVVvFSCMm"
   },
   "outputs": [],
   "source": [
    "mu = 0\n",
    "sigma = 5\n",
    "sample = np.random.normal(mu, sigma, 25000)"
   ]
  },
  {
   "cell_type": "code",
   "execution_count": 13,
   "metadata": {
    "colab": {
     "base_uri": "https://localhost:8080/",
     "height": 34
    },
    "colab_type": "code",
    "id": "yLVfwI0APYLD",
    "outputId": "6ad81b57-1113-49e6-a3cb-540baa2d19a4"
   },
   "outputs": [
    {
     "data": {
      "text/plain": [
       "-0.04699177152573539"
      ]
     },
     "execution_count": 13,
     "metadata": {},
     "output_type": "execute_result"
    }
   ],
   "source": [
    "mean = np.sum(sample) / np.size(sample)\n",
    "mean"
   ]
  },
  {
   "cell_type": "code",
   "execution_count": 14,
   "metadata": {
    "colab": {
     "base_uri": "https://localhost:8080/",
     "height": 34
    },
    "colab_type": "code",
    "id": "nmKbsbWpPah0",
    "outputId": "5199c026-3cb4-47f8-82dd-d6e503438c5d"
   },
   "outputs": [
    {
     "name": "stdout",
     "output_type": "stream",
     "text": [
      "5.0174016362641645\n"
     ]
    }
   ],
   "source": [
    "std_deviation = sqrt(sum([(i - mean) ** 2 for i in sample]) / (len(sample)-1))\n",
    "print(std_deviation)"
   ]
  },
  {
   "cell_type": "markdown",
   "metadata": {},
   "source": [
    "### 4. Estimate the mean and covariance matrix for multi-dimensional data: generate 10,000 samples of 2 dimensional data from the Gaussian distribution $$\\left(\\begin{array}{cc} \n",
    "X_i\\\\ Y_i \\end{array}\\right) \n",
    "\\sim N \\left(\\begin{array}{cc} \n",
    "\\left(\\begin{array}{cc} -5\\\\5 \\end{array}\\right)\n",
    "\\left(\\begin{array}{cc}20 & .8\\\\ .8 & 30\\end{array}\\right)\n",
    "\\end{array}\\right)$$\n",
    "#### Then, estimate the mean and covariance matrix for this multi-dimensional data using elementary numpy commands, i.e., addition, multiplication, division (do not use a command that takes data and returns the mean or standard deviation). (Recall: this notation is a compact way of specifying the distribution of two Gaussian random variables that are correlated. Specifically, the notation indicates that X has mean −5 and variance 20, Y has mean 5 and variance 30, and the covariance of X and Y is 0.8, i.e., $E[(X + 5)(Y − 5)] = 0.8$.)"
   ]
  },
  {
   "cell_type": "code",
   "execution_count": 41,
   "metadata": {},
   "outputs": [
    {
     "data": {
      "text/plain": [
       "array([[-10.61556407,   1.58039114],\n",
       "       [  3.43113742,   7.89831385],\n",
       "       [ -5.75018431,  -4.8483695 ],\n",
       "       ...,\n",
       "       [ -1.35136839,  -0.01162919],\n",
       "       [  0.90370776,   0.46500687],\n",
       "       [ -4.48325116,  11.35741867]])"
      ]
     },
     "execution_count": 41,
     "metadata": {},
     "output_type": "execute_result"
    }
   ],
   "source": [
    "mean = [-5,5]\n",
    "cov = [[20,.8],[.8,30]]\n",
    "matrix = np.random.multivariate_normal(mean, cov, 10000)\n",
    "\n",
    "n = len(matrix)\n",
    "\n",
    "df = pd.DataFrame(matrix, columns = [\"x\",\"y\"])\n",
    "## Determine actual values of means, variances and covariances\n",
    "df.x.mean(), df.x.var(), df.y.mean(), df.y.var(), df.cov()\n",
    "matrix"
   ]
  },
  {
   "cell_type": "code",
   "execution_count": 39,
   "metadata": {},
   "outputs": [
    {
     "data": {
      "text/plain": [
       "[-5.040197024549967, 5.0348060012612414]"
      ]
     },
     "execution_count": 39,
     "metadata": {},
     "output_type": "execute_result"
    }
   ],
   "source": [
    "meanMatrix = [x/n for x in np.sum(matrix, axis=0)]\n",
    "meanMatrix"
   ]
  },
  {
   "cell_type": "code",
   "execution_count": 40,
   "metadata": {},
   "outputs": [
    {
     "data": {
      "text/plain": [
       "[[20.19195881576703, 0.6157500591838821],\n",
       " [0.6157500591838821, 28.994584098809934]]"
      ]
     },
     "execution_count": 40,
     "metadata": {},
     "output_type": "execute_result"
    }
   ],
   "source": [
    "def getCovMatrix(mtx, avmtx):\n",
    "    variances = []\n",
    "    for i in range(len(mtx)):\n",
    "        variance = [(mtx[i][0]-avmtx[0])**2, ##Variance of X\n",
    "                    (mtx[i][0]-avmtx[0])*(mtx[i][1]-avmtx[1]), ##Covariance of x and y\n",
    "                    (mtx[i][1]-avmtx[1])*(mtx[i][0]-avmtx[0]), ##Covariance of y and x\n",
    "                    (mtx[i][1]-avmtx[1])**2 ##Variance of Y\n",
    "                   ]\n",
    "        variances.append(variance)\n",
    "    varianceSummation = np.sum(variances, axis=0)\n",
    "    xx,yx,xy,yy = 0,1,2,3\n",
    "    newN = n-1\n",
    "    covMtx = [\n",
    "                [varianceSummation[xx]/(newN), varianceSummation[yx]/(newN)],\n",
    "                [varianceSummation[xy]/(newN), varianceSummation[yy]/(newN)]\n",
    "             ]\n",
    "    return covMtx\n",
    "getCovMatrix(matrix,meanMatrix)"
   ]
  },
  {
   "cell_type": "markdown",
   "metadata": {},
   "source": [
    "### 5. Download from Canvas/Files the dataset PatientData.csv.\n",
    "#### Each row is a patient and the last column is the condition that the patient has. Do data exploration using Pandas and other visualization tools to understand what you can about the dataset. For example:\n",
    "(a) How many patients and how many features are there?\n",
    "\n",
    "(b) What is the meaning of the first 4 features? See if you can understand what they mean.\n",
    "\n",
    "(c) Are there missing values? Replace them with the average of the corresponding feature column\n",
    "\n",
    "(d) How could you test which features strongly influence the patient condition and which do not?\n",
    "\n",
    "#### List what you think are the three most important features"
   ]
  }
 ],
 "metadata": {
  "colab": {
   "name": "HW1.ipynb",
   "provenance": [],
   "toc_visible": true,
   "version": "0.3.2"
  },
  "kernelspec": {
   "display_name": "Python 3",
   "language": "python",
   "name": "python3"
  },
  "language_info": {
   "codemirror_mode": {
    "name": "ipython",
    "version": 3
   },
   "file_extension": ".py",
   "mimetype": "text/x-python",
   "name": "python",
   "nbconvert_exporter": "python",
   "pygments_lexer": "ipython3",
   "version": "3.7.3"
  }
 },
 "nbformat": 4,
 "nbformat_minor": 1
}
