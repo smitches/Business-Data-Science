{
  "nbformat": 4,
  "nbformat_minor": 0,
  "metadata": {
    "kernelspec": {
      "display_name": "Python 3",
      "language": "python",
      "name": "python3"
    },
    "language_info": {
      "codemirror_mode": {
        "name": "ipython",
        "version": 3
      },
      "file_extension": ".py",
      "mimetype": "text/x-python",
      "name": "python",
      "nbconvert_exporter": "python",
      "pygments_lexer": "ipython3",
      "version": "3.7.3"
    },
    "colab": {
      "name": "HW1.ipynb",
      "version": "0.3.2",
      "provenance": [],
      "toc_visible": true
    }
  },
  "cells": [
    {
      "cell_type": "code",
      "metadata": {
        "id": "ZRcwVc46R37A",
        "colab_type": "code",
        "colab": {}
      },
      "source": [
        "import pandas as pd\n",
        "import numpy as np\n",
        "import matplotlib.pyplot as plt\n",
        "from math import sqrt"
      ],
      "execution_count": 0,
      "outputs": []
    },
    {
      "cell_type": "markdown",
      "metadata": {
        "id": "fxXaFHrOR37N",
        "colab_type": "text"
      },
      "source": [
        "### **1. Create 1000 samples from a Gaussian distribution with mean -10 and standard deviation 5. Create another 1000 samples from another independent Gaussian with mean 10 and standard deviation 5.**\n",
        "    1. Take the sum of 2 these Gaussians by adding the two sets of 1000 points, point by point, and plot the histogram of the resulting 1000 points. What do you observe?  \n",
        "    2. Estimate the mean and the variance of the sum."
      ]
    },
    {
      "cell_type": "code",
      "metadata": {
        "id": "sORdOOqRR37O",
        "colab_type": "code",
        "colab": {}
      },
      "source": [
        "mu = -10\n",
        "sigma = 5\n",
        "sample1 = np.random.normal(mu, sigma, 1000)\n",
        "sample2 = np.random.normal(mu, sigma, 1000)\n",
        "\n",
        "df = pd.DataFrame()\n",
        "df['sample 1'] = sample1\n",
        "df['sample 2'] = sample2"
      ],
      "execution_count": 0,
      "outputs": []
    },
    {
      "cell_type": "code",
      "metadata": {
        "id": "9TqduaSWR37c",
        "colab_type": "code",
        "colab": {
          "base_uri": "https://localhost:8080/",
          "height": 357
        },
        "outputId": "2cab30a8-fa96-44ab-8022-a4e2530c8672"
      },
      "source": [
        "df['sum sample'] = df['sample 1'] + df['sample 2']\n",
        "plt.hist(df['sum sample'])"
      ],
      "execution_count": 3,
      "outputs": [
        {
          "output_type": "execute_result",
          "data": {
            "text/plain": [
              "(array([  8.,  36., 124., 279., 286., 181.,  63.,  18.,   4.,   1.]),\n",
              " array([-42.49217329, -37.16502578, -31.83787826, -26.51073075,\n",
              "        -21.18358324, -15.85643572, -10.52928821,  -5.2021407 ,\n",
              "          0.12500681,   5.45215433,  10.77930184]),\n",
              " <a list of 10 Patch objects>)"
            ]
          },
          "metadata": {
            "tags": []
          },
          "execution_count": 3
        },
        {
          "output_type": "display_data",
          "data": {
            "image/png": "[encoded data removed]",
            "text/plain": [
              "<Figure size 432x288 with 1 Axes>"
            ]
          },
          "metadata": {
            "tags": []
          }
        }
      ]
    },
    {
      "cell_type": "code",
      "metadata": {
        "id": "252VqInIR37p",
        "colab_type": "code",
        "colab": {
          "base_uri": "https://localhost:8080/",
          "height": 35
        },
        "outputId": "0984f19b-3aa9-46a6-f88a-e91d7cc7095d"
      },
      "source": [
        "df['sum sample'].mean()"
      ],
      "execution_count": 4,
      "outputs": [
        {
          "output_type": "execute_result",
          "data": {
            "text/plain": [
              "-19.990333124195264"
            ]
          },
          "metadata": {
            "tags": []
          },
          "execution_count": 4
        }
      ]
    },
    {
      "cell_type": "code",
      "metadata": {
        "id": "EepRPX9_R37u",
        "colab_type": "code",
        "colab": {
          "base_uri": "https://localhost:8080/",
          "height": 35
        },
        "outputId": "cc7c1b69-469b-466d-fd01-0ccb5f4d47b2"
      },
      "source": [
        "df['sum sample'].var()"
      ],
      "execution_count": 5,
      "outputs": [
        {
          "output_type": "execute_result",
          "data": {
            "text/plain": [
              "49.4089289108703"
            ]
          },
          "metadata": {
            "tags": []
          },
          "execution_count": 5
        }
      ]
    },
    {
      "cell_type": "code",
      "metadata": {
        "scrolled": true,
        "id": "fixu6B3_R38G",
        "colab_type": "code",
        "colab": {
          "base_uri": "https://localhost:8080/",
          "height": 203
        },
        "outputId": "08582f3b-dee3-4875-a527-4429eb2e94c8"
      },
      "source": [
        "df.head()"
      ],
      "execution_count": 6,
      "outputs": [
        {
          "output_type": "execute_result",
          "data": {
            "text/html": [
              "<div>\n",
              "<style scoped>\n",
              "    .dataframe tbody tr th:only-of-type {\n",
              "        vertical-align: middle;\n",
              "    }\n",
              "\n",
              "    .dataframe tbody tr th {\n",
              "        vertical-align: top;\n",
              "    }\n",
              "\n",
              "    .dataframe thead th {\n",
              "        text-align: right;\n",
              "    }\n",
              "</style>\n",
              "<table border=\"1\" class=\"dataframe\">\n",
              "  <thead>\n",
              "    <tr style=\"text-align: right;\">\n",
              "      <th></th>\n",
              "      <th>sample 1</th>\n",
              "      <th>sample 2</th>\n",
              "      <th>sum sample</th>\n",
              "    </tr>\n",
              "  </thead>\n",
              "  <tbody>\n",
              "    <tr>\n",
              "      <th>0</th>\n",
              "      <td>-10.127504</td>\n",
              "      <td>-7.813192</td>\n",
              "      <td>-17.940696</td>\n",
              "    </tr>\n",
              "    <tr>\n",
              "      <th>1</th>\n",
              "      <td>-8.702974</td>\n",
              "      <td>-5.090814</td>\n",
              "      <td>-13.793788</td>\n",
              "    </tr>\n",
              "    <tr>\n",
              "      <th>2</th>\n",
              "      <td>-6.926570</td>\n",
              "      <td>-8.711109</td>\n",
              "      <td>-15.637679</td>\n",
              "    </tr>\n",
              "    <tr>\n",
              "      <th>3</th>\n",
              "      <td>-9.205309</td>\n",
              "      <td>-14.878904</td>\n",
              "      <td>-24.084213</td>\n",
              "    </tr>\n",
              "    <tr>\n",
              "      <th>4</th>\n",
              "      <td>-0.213297</td>\n",
              "      <td>-1.991898</td>\n",
              "      <td>-2.205195</td>\n",
              "    </tr>\n",
              "  </tbody>\n",
              "</table>\n",
              "</div>"
            ],
            "text/plain": [
              "    sample 1   sample 2  sum sample\n",
              "0 -10.127504  -7.813192  -17.940696\n",
              "1  -8.702974  -5.090814  -13.793788\n",
              "2  -6.926570  -8.711109  -15.637679\n",
              "3  -9.205309 -14.878904  -24.084213\n",
              "4  -0.213297  -1.991898   -2.205195"
            ]
          },
          "metadata": {
            "tags": []
          },
          "execution_count": 6
        }
      ]
    },
    {
      "cell_type": "markdown",
      "metadata": {
        "id": "O9Wfsv-8R38M",
        "colab_type": "text"
      },
      "source": [
        "### 2. Central Limit Theorem Let $X_i$ be an [iid](https://en.wikipedia.org/wiki/Independent_and_identically_distributed_random_variables) Bernoulli random variable with value {-1,1}. Look at the random variable $Z_n = \\frac{1}{\\sqrt{n}}\\sum X_{i}$ By taking 1000 draws from $Z_n$, plot its histogram. Check that for small $n$ (say, 5-10) $Z_n$ does not look that much like a Gaussian, but when $n$ is bigger (already by the time $n$ = 30 or 50) it looks much more like a Gaussian. Check also for much bigger $n$: $n$ = 250, to see that at this point, one can really see the bell curve"
      ]
    },
    {
      "cell_type": "code",
      "metadata": {
        "id": "vqN3tKnMR38O",
        "colab_type": "code",
        "colab": {}
      },
      "source": [
        "def getSumXi(n): return sum(np.random.choice((-1,0,1),n))\n",
        "def getZn(n): return (1/(sqrt(n)) * getSumXi(n))\n",
        "def getZnDf(n):\n",
        "    df = pd.DataFrame(columns=['Zn'])\n",
        "    values = []\n",
        "    for i in range(1000):\n",
        "        values.append(getZn(n))\n",
        "    return df.append(pd.DataFrame({'Zn':values}))"
      ],
      "execution_count": 0,
      "outputs": []
    },
    {
      "cell_type": "code",
      "metadata": {
        "id": "2iQqkJJxR38c",
        "colab_type": "code",
        "colab": {
          "base_uri": "https://localhost:8080/",
          "height": 357
        },
        "outputId": "3a9a47bd-9a9f-44f8-d092-ca0916540220"
      },
      "source": [
        "df = getZnDf(5)\n",
        "plt.hist(df.Zn)"
      ],
      "execution_count": 12,
      "outputs": [
        {
          "output_type": "execute_result",
          "data": {
            "text/plain": [
              "(array([  3.,  23., 180., 183.,   0., 383., 138.,  67.,  19.,   4.]),\n",
              " array([-2.23606798, -1.78885438, -1.34164079, -0.89442719, -0.4472136 ,\n",
              "         0.        ,  0.4472136 ,  0.89442719,  1.34164079,  1.78885438,\n",
              "         2.23606798]),\n",
              " <a list of 10 Patch objects>)"
            ]
          },
          "metadata": {
            "tags": []
          },
          "execution_count": 12
        },
        {
          "output_type": "display_data",
          "data": {
            "image/png": "[encoded data removed]",
            "text/plain": [
              "<Figure size 432x288 with 1 Axes>"
            ]
          },
          "metadata": {
            "tags": []
          }
        }
      ]
    },
    {
      "cell_type": "code",
      "metadata": {
        "id": "uxckpgDdR38l",
        "colab_type": "code",
        "colab": {
          "base_uri": "https://localhost:8080/",
          "height": 357
        },
        "outputId": "3e9637ef-fb62-4b88-8009-2bfbcc6fb3e6"
      },
      "source": [
        "df = getZnDf(30)\n",
        "plt.hist(df.Zn)"
      ],
      "execution_count": 13,
      "outputs": [
        {
          "output_type": "execute_result",
          "data": {
            "text/plain": [
              "(array([ 13.,  61., 149., 146., 257., 227.,  76.,  58.,  12.,   1.]),\n",
              " array([-2.19089023, -1.69793993, -1.20498963, -0.71203932, -0.21908902,\n",
              "         0.27386128,  0.76681158,  1.25976188,  1.75271218,  2.24566249,\n",
              "         2.73861279]),\n",
              " <a list of 10 Patch objects>)"
            ]
          },
          "metadata": {
            "tags": []
          },
          "execution_count": 13
        },
        {
          "output_type": "display_data",
          "data": {
            "image/png": "[encoded data removed]",
            "text/plain": [
              "<Figure size 432x288 with 1 Axes>"
            ]
          },
          "metadata": {
            "tags": []
          }
        }
      ]
    },
    {
      "cell_type": "code",
      "metadata": {
        "id": "u3i0__aKR38r",
        "colab_type": "code",
        "colab": {
          "base_uri": "https://localhost:8080/",
          "height": 357
        },
        "outputId": "23fc350d-9d2c-4f50-a910-e6d02ade2bbc"
      },
      "source": [
        "df = getZnDf(50)\n",
        "plt.hist(df.Zn)"
      ],
      "execution_count": 14,
      "outputs": [
        {
          "output_type": "execute_result",
          "data": {
            "text/plain": [
              "(array([  4.,  16.,  82., 117., 221., 270., 151., 106.,  28.,   5.]),\n",
              " array([-2.68700577, -2.16374675, -1.64048773, -1.11722871, -0.5939697 ,\n",
              "        -0.07071068,  0.45254834,  0.97580736,  1.49906638,  2.02232539,\n",
              "         2.54558441]),\n",
              " <a list of 10 Patch objects>)"
            ]
          },
          "metadata": {
            "tags": []
          },
          "execution_count": 14
        },
        {
          "output_type": "display_data",
          "data": {
            "image/png": "[encoded data removed]",
            "text/plain": [
              "<Figure size 432x288 with 1 Axes>"
            ]
          },
          "metadata": {
            "tags": []
          }
        }
      ]
    },
    {
      "cell_type": "code",
      "metadata": {
        "id": "mSEdA6q3R38x",
        "colab_type": "code",
        "colab": {
          "base_uri": "https://localhost:8080/",
          "height": 357
        },
        "outputId": "a1f5935d-9732-4284-9d20-58179da59cde"
      },
      "source": [
        "df = getZnDf(250)\n",
        "plt.hist(df.Zn)"
      ],
      "execution_count": 15,
      "outputs": [
        {
          "output_type": "execute_result",
          "data": {
            "text/plain": [
              "(array([  4.,  15.,  99., 208., 270., 227., 138.,  34.,   4.,   1.]),\n",
              " array([-2.78280434, -2.18829614, -1.59378794, -0.99927974, -0.40477154,\n",
              "         0.18973666,  0.78424486,  1.37875306,  1.97326126,  2.56776946,\n",
              "         3.16227766]),\n",
              " <a list of 10 Patch objects>)"
            ]
          },
          "metadata": {
            "tags": []
          },
          "execution_count": 15
        },
        {
          "output_type": "display_data",
          "data": {
            "image/png": "[encoded data removed]",
            "text/plain": [
              "<Figure size 432x288 with 1 Axes>"
            ]
          },
          "metadata": {
            "tags": []
          }
        }
      ]
    },
    {
      "cell_type": "markdown",
      "metadata": {
        "id": "5TQuU2xTSMcl",
        "colab_type": "text"
      },
      "source": [
        "### Estimate the mean and standard deviation from 1 dimensional data: generate 25,000 samples from a Gaussian distribution with mean 0 and standard deviation 5. Then estimate the mean and standard deviation of this gaussian using elementary numpy commands, i.e., addition,multiplication, division (do not use a command that takes data and returns the mean or standard deviation)."
      ]
    },
    {
      "cell_type": "code",
      "metadata": {
        "id": "N3iBVVvFSCMm",
        "colab_type": "code",
        "colab": {}
      },
      "source": [
        ""
      ],
      "execution_count": 0,
      "outputs": []
    }
  ]
}